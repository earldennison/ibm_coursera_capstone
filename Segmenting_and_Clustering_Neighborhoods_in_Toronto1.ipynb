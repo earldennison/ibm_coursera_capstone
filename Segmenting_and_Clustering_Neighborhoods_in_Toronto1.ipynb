{
  "nbformat": 4,
  "nbformat_minor": 0,
  "metadata": {
    "colab": {
      "name": "Segmenting and Clustering Neighborhoods in Toronto.ipynb",
      "version": "0.3.2",
      "provenance": [],
      "toc_visible": true,
      "include_colab_link": true
    },
    "kernelspec": {
      "name": "python3",
      "display_name": "Python 3"
    }
  },
  "cells": [
    {
      "cell_type": "markdown",
      "metadata": {
        "id": "view-in-github",
        "colab_type": "text"
      },
      "source": [
        "<a href=\"https://colab.research.google.com/github/earldennison/ibm_coursera_capstone/blob/master/Segmenting_and_Clustering_Neighborhoods_in_Toronto1.ipynb\" target=\"_parent\"><img src=\"https://colab.research.google.com/assets/colab-badge.svg\" alt=\"Open In Colab\"/></a>"
      ]
    },
    {
      "cell_type": "markdown",
      "metadata": {
        "id": "XPdzjSx8GVhS",
        "colab_type": "text"
      },
      "source": [
        "## Standard Imports\n",
        "Before we procede we will import the standard libraries we are going to use for manipulating the data"
      ]
    },
    {
      "cell_type": "code",
      "metadata": {
        "id": "x3i1mqJvBXBT",
        "colab_type": "code",
        "colab": {}
      },
      "source": [
        "import numpy as np\n",
        "import pandas as pd"
      ],
      "execution_count": 0,
      "outputs": []
    },
    {
      "cell_type": "markdown",
      "metadata": {
        "id": "Hn_EwtgAROXE",
        "colab_type": "text"
      },
      "source": [
        "## Getting The Data\n",
        "Unlike what the coursera instruction says, it is fairly straight forward to load tabular data into a data frame if it is not more than one page long, one does not need beautifulsoup for this, we can easily get data through the ```pd.read_html``` method this method retruns a list of all the tables inside the location of the url you have put in as an arguement. "
      ]
    },
    {
      "cell_type": "code",
      "metadata": {
        "id": "9Z-iHKkBBoDO",
        "colab_type": "code",
        "colab": {}
      },
      "source": [
        "pcodes = pd.read_html('https://en.wikipedia.org/wiki/List_of_postal_codes_of_Canada:_M')"
      ],
      "execution_count": 0,
      "outputs": []
    },
    {
      "cell_type": "markdown",
      "metadata": {
        "id": "j9Z5mleJShre",
        "colab_type": "text"
      },
      "source": [
        "## Creating the Data Frame"
      ]
    },
    {
      "cell_type": "markdown",
      "metadata": {
        "id": "Mkk8WH57OoZk",
        "colab_type": "text"
      },
      "source": [
        "I have assigned the data that will be returned to ```pcodes``` short for postal codes. Let us check what type of data ```pcodes``` has"
      ]
    },
    {
      "cell_type": "code",
      "metadata": {
        "id": "9s9lZ5s-O6TU",
        "colab_type": "code",
        "colab": {
          "base_uri": "https://localhost:8080/",
          "height": 34
        },
        "outputId": "1c433204-59f1-48c3-9883-b810d7a74f28"
      },
      "source": [
        "type(pcodes)"
      ],
      "execution_count": 3,
      "outputs": [
        {
          "output_type": "execute_result",
          "data": {
            "text/plain": [
              "list"
            ]
          },
          "metadata": {
            "tags": []
          },
          "execution_count": 3
        }
      ]
    },
    {
      "cell_type": "markdown",
      "metadata": {
        "id": "VgmWDSUaO-ee",
        "colab_type": "text"
      },
      "source": [
        "The type of data is actually a list? But what we want is a data frame right? Lets investigate further."
      ]
    },
    {
      "cell_type": "code",
      "metadata": {
        "id": "RBmyGvM2PUeE",
        "colab_type": "code",
        "colab": {
          "base_uri": "https://localhost:8080/",
          "height": 34
        },
        "outputId": "86228f8e-4550-4e69-ac43-0bee3e5ad7c7"
      },
      "source": [
        "len(pcodes)"
      ],
      "execution_count": 4,
      "outputs": [
        {
          "output_type": "execute_result",
          "data": {
            "text/plain": [
              "3"
            ]
          },
          "metadata": {
            "tags": []
          },
          "execution_count": 4
        }
      ]
    },
    {
      "cell_type": "markdown",
      "metadata": {
        "id": "dC3jORRiPu4b",
        "colab_type": "text"
      },
      "source": [
        "Three? its a list with 3 elements in it? Lets check it out"
      ]
    },
    {
      "cell_type": "code",
      "metadata": {
        "id": "hAFX2g9nP3cX",
        "colab_type": "code",
        "colab": {
          "base_uri": "https://localhost:8080/",
          "height": 1000
        },
        "outputId": "cf46bc53-f6b2-4c55-8c42-538a4f8251c8"
      },
      "source": [
        "pcodes"
      ],
      "execution_count": 5,
      "outputs": [
        {
          "output_type": "execute_result",
          "data": {
            "text/plain": [
              "[    Postcode  ...                                      Neighbourhood\n",
              " 0        M1A  ...                                       Not assigned\n",
              " 1        M2A  ...                                       Not assigned\n",
              " 2        M3A  ...                                          Parkwoods\n",
              " 3        M4A  ...                                   Victoria Village\n",
              " 4        M5A  ...                                       Harbourfront\n",
              " 5        M5A  ...                                        Regent Park\n",
              " 6        M6A  ...                                   Lawrence Heights\n",
              " 7        M6A  ...                                     Lawrence Manor\n",
              " 8        M7A  ...                                       Not assigned\n",
              " 9        M8A  ...                                       Not assigned\n",
              " 10       M9A  ...                                   Islington Avenue\n",
              " 11       M1B  ...                                              Rouge\n",
              " 12       M1B  ...                                            Malvern\n",
              " 13       M2B  ...                                       Not assigned\n",
              " 14       M3B  ...                                    Don Mills North\n",
              " 15       M4B  ...                                   Woodbine Gardens\n",
              " 16       M4B  ...                                      Parkview Hill\n",
              " 17       M5B  ...                                            Ryerson\n",
              " 18       M5B  ...                                    Garden District\n",
              " 19       M6B  ...                                          Glencairn\n",
              " 20       M7B  ...                                       Not assigned\n",
              " 21       M8B  ...                                       Not assigned\n",
              " 22       M9B  ...                                         Cloverdale\n",
              " 23       M9B  ...                                          Islington\n",
              " 24       M9B  ...                                       Martin Grove\n",
              " 25       M9B  ...                                   Princess Gardens\n",
              " 26       M9B  ...                                    West Deane Park\n",
              " 27       M1C  ...                                     Highland Creek\n",
              " 28       M1C  ...                                         Rouge Hill\n",
              " 29       M1C  ...                                         Port Union\n",
              " ..       ...  ...                                                ...\n",
              " 258      M9X  ...                                       Not assigned\n",
              " 259      M1Y  ...                                       Not assigned\n",
              " 260      M2Y  ...                                       Not assigned\n",
              " 261      M3Y  ...                                       Not assigned\n",
              " 262      M4Y  ...                               Church and Wellesley\n",
              " 263      M5Y  ...                                       Not assigned\n",
              " 264      M6Y  ...                                       Not assigned\n",
              " 265      M7Y  ...  Business Reply Mail Processing Centre 969 Eastern\n",
              " 266      M8Y  ...                                         Humber Bay\n",
              " 267      M8Y  ...                                   King's Mill Park\n",
              " 268      M8Y  ...                           Kingsway Park South East\n",
              " 269      M8Y  ...                                          Mimico NE\n",
              " 270      M8Y  ...                                     Old Mill South\n",
              " 271      M8Y  ...                                 The Queensway East\n",
              " 272      M8Y  ...                              Royal York South East\n",
              " 273      M8Y  ...                                           Sunnylea\n",
              " 274      M9Y  ...                                       Not assigned\n",
              " 275      M1Z  ...                                       Not assigned\n",
              " 276      M2Z  ...                                       Not assigned\n",
              " 277      M3Z  ...                                       Not assigned\n",
              " 278      M4Z  ...                                       Not assigned\n",
              " 279      M5Z  ...                                       Not assigned\n",
              " 280      M6Z  ...                                       Not assigned\n",
              " 281      M7Z  ...                                       Not assigned\n",
              " 282      M8Z  ...                           Kingsway Park South West\n",
              " 283      M8Z  ...                                          Mimico NW\n",
              " 284      M8Z  ...                                 The Queensway West\n",
              " 285      M8Z  ...                              Royal York South West\n",
              " 286      M8Z  ...                                     South of Bloor\n",
              " 287      M9Z  ...                                       Not assigned\n",
              " \n",
              " [288 rows x 3 columns],\n",
              "                                                   0   ...   17\n",
              " 0                                                NaN  ...  NaN\n",
              " 1  NL NS PE NB QC ON MB SK AB BC NU/NT YT A B C E...  ...  NaN\n",
              " 2                                                 NL  ...   YT\n",
              " 3                                                  A  ...    Y\n",
              " \n",
              " [4 rows x 18 columns],\n",
              "    0   1   2   3   4   5   6   7   8   9   10  11  12  13  14  15     16  17\n",
              " 0  NL  NS  PE  NB  QC  QC  QC  ON  ON  ON  ON  ON  MB  SK  AB  BC  NU/NT  YT\n",
              " 1   A   B   C   E   G   H   J   K   L   M   N   P   R   S   T   V      X   Y]"
            ]
          },
          "metadata": {
            "tags": []
          },
          "execution_count": 5
        }
      ]
    },
    {
      "cell_type": "markdown",
      "metadata": {
        "id": "Q2tL4WuxS3C6",
        "colab_type": "text"
      },
      "source": [
        "```pcodes``` actually has three tables in it!  That is weird . . . Lets check out what type each individual element is"
      ]
    },
    {
      "cell_type": "code",
      "metadata": {
        "id": "rZ5yQi7_TWmZ",
        "colab_type": "code",
        "colab": {
          "base_uri": "https://localhost:8080/",
          "height": 68
        },
        "outputId": "674d5489-4474-4e29-b052-36970ccb596d"
      },
      "source": [
        "for item in pcodes:\n",
        "  print(type(item))"
      ],
      "execution_count": 6,
      "outputs": [
        {
          "output_type": "stream",
          "text": [
            "<class 'pandas.core.frame.DataFrame'>\n",
            "<class 'pandas.core.frame.DataFrame'>\n",
            "<class 'pandas.core.frame.DataFrame'>\n"
          ],
          "name": "stdout"
        }
      ]
    },
    {
      "cell_type": "markdown",
      "metadata": {
        "id": "MzxyJ_nATm0a",
        "colab_type": "text"
      },
      "source": [
        "Bingo! Each element is actually a data frame, with this it will be simple to just get the dataframe from the index, now what we want is the first so the index would be ```0```. Lets double check the content just to be sure that it is what we want"
      ]
    },
    {
      "cell_type": "code",
      "metadata": {
        "id": "Jrrc8PC7TcrC",
        "colab_type": "code",
        "colab": {
          "base_uri": "https://localhost:8080/",
          "height": 204
        },
        "outputId": "0f469709-9388-442d-967e-c6dd4fa4c739"
      },
      "source": [
        "pcodes[0].head()"
      ],
      "execution_count": 7,
      "outputs": [
        {
          "output_type": "execute_result",
          "data": {
            "text/html": [
              "<div>\n",
              "<style scoped>\n",
              "    .dataframe tbody tr th:only-of-type {\n",
              "        vertical-align: middle;\n",
              "    }\n",
              "\n",
              "    .dataframe tbody tr th {\n",
              "        vertical-align: top;\n",
              "    }\n",
              "\n",
              "    .dataframe thead th {\n",
              "        text-align: right;\n",
              "    }\n",
              "</style>\n",
              "<table border=\"1\" class=\"dataframe\">\n",
              "  <thead>\n",
              "    <tr style=\"text-align: right;\">\n",
              "      <th></th>\n",
              "      <th>Postcode</th>\n",
              "      <th>Borough</th>\n",
              "      <th>Neighbourhood</th>\n",
              "    </tr>\n",
              "  </thead>\n",
              "  <tbody>\n",
              "    <tr>\n",
              "      <th>0</th>\n",
              "      <td>M1A</td>\n",
              "      <td>Not assigned</td>\n",
              "      <td>Not assigned</td>\n",
              "    </tr>\n",
              "    <tr>\n",
              "      <th>1</th>\n",
              "      <td>M2A</td>\n",
              "      <td>Not assigned</td>\n",
              "      <td>Not assigned</td>\n",
              "    </tr>\n",
              "    <tr>\n",
              "      <th>2</th>\n",
              "      <td>M3A</td>\n",
              "      <td>North York</td>\n",
              "      <td>Parkwoods</td>\n",
              "    </tr>\n",
              "    <tr>\n",
              "      <th>3</th>\n",
              "      <td>M4A</td>\n",
              "      <td>North York</td>\n",
              "      <td>Victoria Village</td>\n",
              "    </tr>\n",
              "    <tr>\n",
              "      <th>4</th>\n",
              "      <td>M5A</td>\n",
              "      <td>Downtown Toronto</td>\n",
              "      <td>Harbourfront</td>\n",
              "    </tr>\n",
              "  </tbody>\n",
              "</table>\n",
              "</div>"
            ],
            "text/plain": [
              "  Postcode           Borough     Neighbourhood\n",
              "0      M1A      Not assigned      Not assigned\n",
              "1      M2A      Not assigned      Not assigned\n",
              "2      M3A        North York         Parkwoods\n",
              "3      M4A        North York  Victoria Village\n",
              "4      M5A  Downtown Toronto      Harbourfront"
            ]
          },
          "metadata": {
            "tags": []
          },
          "execution_count": 7
        }
      ]
    },
    {
      "cell_type": "markdown",
      "metadata": {
        "id": "ggPtmnGIUwZC",
        "colab_type": "text"
      },
      "source": [
        "Since we don't need the other tables lets just assign the index of 0  `pcodes` to `pcodes` itself clearing out the outher tables"
      ]
    },
    {
      "cell_type": "code",
      "metadata": {
        "id": "6tN3stLQCOKK",
        "colab_type": "code",
        "colab": {}
      },
      "source": [
        "pcodes = pcodes[0]"
      ],
      "execution_count": 0,
      "outputs": []
    },
    {
      "cell_type": "markdown",
      "metadata": {
        "id": "A2Za73MQVZLI",
        "colab_type": "text"
      },
      "source": [
        "## Cleaning the Data\n",
        "Now we have lots of bad data inside the data frame due to the Not assigned values. For this we will just follow the instructions of the coursera guideline. But first lets check the the dataframe as the dilligent datascientists that we are.\n",
        "\n"
      ]
    },
    {
      "cell_type": "code",
      "metadata": {
        "id": "3r7PpLHyDjWJ",
        "colab_type": "code",
        "colab": {
          "base_uri": "https://localhost:8080/",
          "height": 34
        },
        "outputId": "7556b04c-ff16-4abc-ddaf-cbcbb1a656e9"
      },
      "source": [
        "pcodes.columns"
      ],
      "execution_count": 9,
      "outputs": [
        {
          "output_type": "execute_result",
          "data": {
            "text/plain": [
              "Index(['Postcode', 'Borough', 'Neighbourhood'], dtype='object')"
            ]
          },
          "metadata": {
            "tags": []
          },
          "execution_count": 9
        }
      ]
    },
    {
      "cell_type": "markdown",
      "metadata": {
        "id": "XhHJKtXncXdf",
        "colab_type": "text"
      },
      "source": [
        "Now we have the columns we can manipulate the data better. Lets check out the coursera guidelines for transforming the data.\n",
        "> - The dataframe will consist of three columns: PostalCode, Borough, and Neighborhood\n",
        "- Only process the cells that have an assigned borough. Ignore cells with a borough that is Not assigned.\n",
        "- More than one neighborhood can exist in one postal code area. For example, in the table on the Wikipedia page, you will notice that M5A is listed twice and has two neighborhoods: Harbourfront and Regent Park. These two rows will be combined into one row with the neighborhoods separated with a comma as shown in row 11 in the above table.\n",
        "- If a cell has a borough but a Not assigned neighborhood, then the neighborhood will be the same as the borough. So for the 9th cell in the table on the Wikipedia page, the value of the Borough and the Neighborhood columns will be Queen's Park.\n",
        "- Clean your Notebook and add Markdown cells to explain your work and any assumptions you are making.\n",
        "- In the last cell of your notebook, use the .shape method to print the number of rows of your dataframe."
      ]
    },
    {
      "cell_type": "markdown",
      "metadata": {
        "id": "KsLo6GJicJFn",
        "colab_type": "text"
      },
      "source": [
        "We already have the three columns. So that's done. It seems to have to drop the cells that have no borrough assigned. Okay lets do that. Hmm lets try to replace ```Not assigned``` with ```NaN``` so that we can easily drop the rows"
      ]
    },
    {
      "cell_type": "code",
      "metadata": {
        "id": "1DtZliTSdp7L",
        "colab_type": "code",
        "colab": {}
      },
      "source": [
        "pcodes.replace('Not assigned',np.NaN, inplace = True)"
      ],
      "execution_count": 0,
      "outputs": []
    },
    {
      "cell_type": "markdown",
      "metadata": {
        "id": "fIuiP6qzea7O",
        "colab_type": "text"
      },
      "source": [
        "Now we drop the NaN values using ```dropna()```, however, we just want to drop the rows where the borroughs arrent assigned, thankfully ```dropna()``` has ```subset``` parameter which can filter out the columns that we want ```dropna``` to be applied to"
      ]
    },
    {
      "cell_type": "code",
      "metadata": {
        "id": "IfjNGy2wePde",
        "colab_type": "code",
        "colab": {}
      },
      "source": [
        "pcodes.dropna(subset=['Borough'], axis=0,inplace=True)"
      ],
      "execution_count": 0,
      "outputs": []
    },
    {
      "cell_type": "code",
      "metadata": {
        "id": "2epWQN1Kfi5-",
        "colab_type": "code",
        "colab": {
          "base_uri": "https://localhost:8080/",
          "height": 204
        },
        "outputId": "a325ac81-143c-465f-ff1a-87a5b90664f0"
      },
      "source": [
        "pcodes.head()"
      ],
      "execution_count": 13,
      "outputs": [
        {
          "output_type": "execute_result",
          "data": {
            "text/html": [
              "<div>\n",
              "<style scoped>\n",
              "    .dataframe tbody tr th:only-of-type {\n",
              "        vertical-align: middle;\n",
              "    }\n",
              "\n",
              "    .dataframe tbody tr th {\n",
              "        vertical-align: top;\n",
              "    }\n",
              "\n",
              "    .dataframe thead th {\n",
              "        text-align: right;\n",
              "    }\n",
              "</style>\n",
              "<table border=\"1\" class=\"dataframe\">\n",
              "  <thead>\n",
              "    <tr style=\"text-align: right;\">\n",
              "      <th></th>\n",
              "      <th>Postcode</th>\n",
              "      <th>Borough</th>\n",
              "      <th>Neighbourhood</th>\n",
              "    </tr>\n",
              "  </thead>\n",
              "  <tbody>\n",
              "    <tr>\n",
              "      <th>2</th>\n",
              "      <td>M3A</td>\n",
              "      <td>North York</td>\n",
              "      <td>Parkwoods</td>\n",
              "    </tr>\n",
              "    <tr>\n",
              "      <th>3</th>\n",
              "      <td>M4A</td>\n",
              "      <td>North York</td>\n",
              "      <td>Victoria Village</td>\n",
              "    </tr>\n",
              "    <tr>\n",
              "      <th>4</th>\n",
              "      <td>M5A</td>\n",
              "      <td>Downtown Toronto</td>\n",
              "      <td>Harbourfront</td>\n",
              "    </tr>\n",
              "    <tr>\n",
              "      <th>5</th>\n",
              "      <td>M5A</td>\n",
              "      <td>Downtown Toronto</td>\n",
              "      <td>Regent Park</td>\n",
              "    </tr>\n",
              "    <tr>\n",
              "      <th>6</th>\n",
              "      <td>M6A</td>\n",
              "      <td>North York</td>\n",
              "      <td>Lawrence Heights</td>\n",
              "    </tr>\n",
              "  </tbody>\n",
              "</table>\n",
              "</div>"
            ],
            "text/plain": [
              "  Postcode           Borough     Neighbourhood\n",
              "2      M3A        North York         Parkwoods\n",
              "3      M4A        North York  Victoria Village\n",
              "4      M5A  Downtown Toronto      Harbourfront\n",
              "5      M5A  Downtown Toronto       Regent Park\n",
              "6      M6A        North York  Lawrence Heights"
            ]
          },
          "metadata": {
            "tags": []
          },
          "execution_count": 13
        }
      ]
    },
    {
      "cell_type": "markdown",
      "metadata": {
        "id": "CDKSHAEHfsVp",
        "colab_type": "text"
      },
      "source": [
        "Looks like it was a success M1A and M2A for which Borrough values were Not assigned  have been dropped"
      ]
    },
    {
      "cell_type": "markdown",
      "metadata": {
        "id": "_PvuP_V2g3uG",
        "colab_type": "text"
      },
      "source": [
        "Lets try to comply with the other guidlines coursera has given:\n",
        "\n",
        ">- More than one neighborhood can exist in one postal code area. For example, in the table on the Wikipedia page, you will notice that M5A is listed twice and has two neighborhoods: Harbourfront and Regent Park. These two rows will be combined into one row with the neighborhoods separated with a comma as shown in row 11 in the above table.\n",
        "- If a cell has a borough but a Not assigned neighborhood, then the neighborhood will be the same as the borough. So for the 9th cell in the table on the Wikipedia page, the value of the Borough and the Neighborhood columns will be Queen's Park.\n",
        "\n",
        "Uh oh,  if we do the former first rather than the latter it would give us a headache since executing the first guidline would create a string value that is compressed inside the `Neighborhood` series, it would take much more complex processing if we get the string values of neighborhood. So I'll just do the latter first. I'm going to go through the data frame and if the `Neighborhood` is not assigned I will just replace the value in `Neighborhood` with the `Borrough`.\n",
        "\n",
        "\n",
        "Since we change `Not assigned` to `Nan` there is an easy way  in pandas for this sort of transformation. We are going to use  the `fillna` method"
      ]
    },
    {
      "cell_type": "code",
      "metadata": {
        "id": "P2P_zuI_jLfB",
        "colab_type": "code",
        "colab": {
          "base_uri": "https://localhost:8080/",
          "height": 142
        },
        "outputId": "be105920-eb4b-4f94-f9f7-235b559bcbcf"
      },
      "source": [
        "pcodes.fillna(method='ffill', axis = 1, inplace=True)\n",
        "pcodes.loc[8].to_frame()"
      ],
      "execution_count": 14,
      "outputs": [
        {
          "output_type": "execute_result",
          "data": {
            "text/html": [
              "<div>\n",
              "<style scoped>\n",
              "    .dataframe tbody tr th:only-of-type {\n",
              "        vertical-align: middle;\n",
              "    }\n",
              "\n",
              "    .dataframe tbody tr th {\n",
              "        vertical-align: top;\n",
              "    }\n",
              "\n",
              "    .dataframe thead th {\n",
              "        text-align: right;\n",
              "    }\n",
              "</style>\n",
              "<table border=\"1\" class=\"dataframe\">\n",
              "  <thead>\n",
              "    <tr style=\"text-align: right;\">\n",
              "      <th></th>\n",
              "      <th>8</th>\n",
              "    </tr>\n",
              "  </thead>\n",
              "  <tbody>\n",
              "    <tr>\n",
              "      <th>Postcode</th>\n",
              "      <td>M7A</td>\n",
              "    </tr>\n",
              "    <tr>\n",
              "      <th>Borough</th>\n",
              "      <td>Queen's Park</td>\n",
              "    </tr>\n",
              "    <tr>\n",
              "      <th>Neighbourhood</th>\n",
              "      <td>Queen's Park</td>\n",
              "    </tr>\n",
              "  </tbody>\n",
              "</table>\n",
              "</div>"
            ],
            "text/plain": [
              "                          8\n",
              "Postcode                M7A\n",
              "Borough        Queen's Park\n",
              "Neighbourhood  Queen's Park"
            ]
          },
          "metadata": {
            "tags": []
          },
          "execution_count": 14
        }
      ]
    },
    {
      "cell_type": "markdown",
      "metadata": {
        "id": "pl7S8SvClUo8",
        "colab_type": "text"
      },
      "source": [
        "I think a little bit of discussion is in order. As you see from the code above position 8 has been altered and automatically changed to its borough. The method parameter `ffill` means forward fill, so what happens is that once pandas sees that the next line is a `NaN` value it automatically uses the previous value to fill it. the `axis` parameter is the guidline that pandas uses for what scan it uses in order to fill it. Neat huh?\n",
        "\n",
        "Next we are going to put all the `Neighborhood`s in the same row if they have the same post code."
      ]
    },
    {
      "cell_type": "code",
      "metadata": {
        "id": "Zo740drKZYAv",
        "colab_type": "code",
        "colab": {}
      },
      "source": [
        "pcodes = pcodes.groupby(\n",
        "    by=['Postcode','Borough'])['Neighbourhood'].apply(','.join).reset_index()"
      ],
      "execution_count": 0,
      "outputs": []
    },
    {
      "cell_type": "code",
      "metadata": {
        "id": "h6ev8ofqnlGy",
        "colab_type": "code",
        "colab": {
          "base_uri": "https://localhost:8080/",
          "height": 204
        },
        "outputId": "00403999-f707-4902-fac8-8ca8657bb380"
      },
      "source": [
        "pcodes.head()"
      ],
      "execution_count": 17,
      "outputs": [
        {
          "output_type": "execute_result",
          "data": {
            "text/html": [
              "<div>\n",
              "<style scoped>\n",
              "    .dataframe tbody tr th:only-of-type {\n",
              "        vertical-align: middle;\n",
              "    }\n",
              "\n",
              "    .dataframe tbody tr th {\n",
              "        vertical-align: top;\n",
              "    }\n",
              "\n",
              "    .dataframe thead th {\n",
              "        text-align: right;\n",
              "    }\n",
              "</style>\n",
              "<table border=\"1\" class=\"dataframe\">\n",
              "  <thead>\n",
              "    <tr style=\"text-align: right;\">\n",
              "      <th></th>\n",
              "      <th>Postcode</th>\n",
              "      <th>Borough</th>\n",
              "      <th>Neighbourhood</th>\n",
              "    </tr>\n",
              "  </thead>\n",
              "  <tbody>\n",
              "    <tr>\n",
              "      <th>0</th>\n",
              "      <td>M1B</td>\n",
              "      <td>Scarborough</td>\n",
              "      <td>Rouge,Malvern</td>\n",
              "    </tr>\n",
              "    <tr>\n",
              "      <th>1</th>\n",
              "      <td>M1C</td>\n",
              "      <td>Scarborough</td>\n",
              "      <td>Highland Creek,Rouge Hill,Port Union</td>\n",
              "    </tr>\n",
              "    <tr>\n",
              "      <th>2</th>\n",
              "      <td>M1E</td>\n",
              "      <td>Scarborough</td>\n",
              "      <td>Guildwood,Morningside,West Hill</td>\n",
              "    </tr>\n",
              "    <tr>\n",
              "      <th>3</th>\n",
              "      <td>M1G</td>\n",
              "      <td>Scarborough</td>\n",
              "      <td>Woburn</td>\n",
              "    </tr>\n",
              "    <tr>\n",
              "      <th>4</th>\n",
              "      <td>M1H</td>\n",
              "      <td>Scarborough</td>\n",
              "      <td>Cedarbrae</td>\n",
              "    </tr>\n",
              "  </tbody>\n",
              "</table>\n",
              "</div>"
            ],
            "text/plain": [
              "  Postcode      Borough                         Neighbourhood\n",
              "0      M1B  Scarborough                         Rouge,Malvern\n",
              "1      M1C  Scarborough  Highland Creek,Rouge Hill,Port Union\n",
              "2      M1E  Scarborough       Guildwood,Morningside,West Hill\n",
              "3      M1G  Scarborough                                Woburn\n",
              "4      M1H  Scarborough                             Cedarbrae"
            ]
          },
          "metadata": {
            "tags": []
          },
          "execution_count": 17
        }
      ]
    },
    {
      "cell_type": "markdown",
      "metadata": {
        "id": "8e5KsfVVnqxW",
        "colab_type": "text"
      },
      "source": [
        "So what happened? Well its basically a one liner but it is quite complex, we must first delve into what the ```groupby``` method does, the groupby method returns a `groupby` object, not exactly a dataframe, however, this groupby object can be iterated through, we can still access the `['Neighbourhood']` column, if we use some sort of function on it then maybe we can get a datarame. We used the `join` method on the `['Neighbourhood']` column to aggregate it. And we used ther `reset_index()` method to reset it else it would treat the `['Neighbourhood']` column as the index\n",
        "\n"
      ]
    },
    {
      "cell_type": "code",
      "metadata": {
        "id": "POU3LlJsMgnO",
        "colab_type": "code",
        "colab": {
          "base_uri": "https://localhost:8080/",
          "height": 34
        },
        "outputId": "44b3c91d-97dd-4c99-ada5-de0dc2be0078"
      },
      "source": [
        "pcodes.shape"
      ],
      "execution_count": 18,
      "outputs": [
        {
          "output_type": "execute_result",
          "data": {
            "text/plain": [
              "(103, 3)"
            ]
          },
          "metadata": {
            "tags": []
          },
          "execution_count": 18
        }
      ]
    },
    {
      "cell_type": "markdown",
      "metadata": {
        "id": "LXViQEHw_kqo",
        "colab_type": "text"
      },
      "source": [
        "## Getting the Longitudes and Latitudes\n",
        "Now that we have cleaned the data we must be able to get the latitude and longitude information using the the Postcode so we will import geocoder as per the instruction of coursera"
      ]
    },
    {
      "cell_type": "code",
      "metadata": {
        "id": "X4zGTxXe-Hg8",
        "colab_type": "code",
        "colab": {}
      },
      "source": [
        "import geocoder"
      ],
      "execution_count": 0,
      "outputs": []
    },
    {
      "cell_type": "markdown",
      "metadata": {
        "id": "-Hc-CJ_T-io7",
        "colab_type": "text"
      },
      "source": [
        "However the method `geocoder.google` doesn't seem to be working so we will use `geocoder.arcgis` instead, my thanks to [Asim Islam](https://www.coursera.org/learn/applied-data-science-capstone/profiles/8d41d6357cf7033b900aa7daaafdf2c1) for pointing me in the right direction. Lets test it out if it will indeed get the longitud and latitude"
      ]
    },
    {
      "cell_type": "code",
      "metadata": {
        "id": "4WG-O8cxKOW9",
        "colab_type": "code",
        "colab": {
          "base_uri": "https://localhost:8080/",
          "height": 34
        },
        "outputId": "f9546d92-b1ae-4cb8-c462-5206829e0795"
      },
      "source": [
        "g= geocoder.arcgis('M5A, Toronto, Ontario')\n",
        "g.latlng"
      ],
      "execution_count": 20,
      "outputs": [
        {
          "output_type": "execute_result",
          "data": {
            "text/plain": [
              "[43.65512000000007, -79.36263979699999]"
            ]
          },
          "metadata": {
            "tags": []
          },
          "execution_count": 20
        }
      ]
    },
    {
      "cell_type": "markdown",
      "metadata": {
        "id": "4JlaQej5_KYL",
        "colab_type": "text"
      },
      "source": [
        "Cool, now that we have this we make a function to make our lives easier, the function returns the longitude and latitude in list format, the parameters `city` and `state` already have default arguements, which are Toronto and Ontario respectively."
      ]
    },
    {
      "cell_type": "code",
      "metadata": {
        "id": "7BvmZgQCzLFg",
        "colab_type": "code",
        "colab": {}
      },
      "source": [
        "def get_geocode(postal_code, city='Toronto', state='Ontario'):\n",
        "  return geocoder.arcgis(f'{postal_code}, {city}, {state}').latlng"
      ],
      "execution_count": 0,
      "outputs": []
    },
    {
      "cell_type": "markdown",
      "metadata": {
        "id": "WY_iEO6HAkS-",
        "colab_type": "text"
      },
      "source": [
        "Now we create the new columns by declaring them, the `zip` functions creates a tuple on the return value of the `get_geocode` once applied, it will the be separated and passed into the new columns"
      ]
    },
    {
      "cell_type": "code",
      "metadata": {
        "id": "7cUT_Jjg3Hxn",
        "colab_type": "code",
        "colab": {}
      },
      "source": [
        "pcodes['Latitude'], pcodes['Longitude'] = zip(*pcodes['Postcode'].apply(get_geocode))"
      ],
      "execution_count": 0,
      "outputs": []
    },
    {
      "cell_type": "markdown",
      "metadata": {
        "id": "zoYMcOuIFRIo",
        "colab_type": "text"
      },
      "source": [
        "Lets check our Data Frame"
      ]
    },
    {
      "cell_type": "code",
      "metadata": {
        "id": "liL2sHDWFP8W",
        "colab_type": "code",
        "colab": {
          "base_uri": "https://localhost:8080/",
          "height": 221
        },
        "outputId": "6022a015-46f4-4c4c-8e7d-d3a6ebd7e269"
      },
      "source": [
        "pcodes.head()"
      ],
      "execution_count": 26,
      "outputs": [
        {
          "output_type": "execute_result",
          "data": {
            "text/html": [
              "<div>\n",
              "<style scoped>\n",
              "    .dataframe tbody tr th:only-of-type {\n",
              "        vertical-align: middle;\n",
              "    }\n",
              "\n",
              "    .dataframe tbody tr th {\n",
              "        vertical-align: top;\n",
              "    }\n",
              "\n",
              "    .dataframe thead th {\n",
              "        text-align: right;\n",
              "    }\n",
              "</style>\n",
              "<table border=\"1\" class=\"dataframe\">\n",
              "  <thead>\n",
              "    <tr style=\"text-align: right;\">\n",
              "      <th></th>\n",
              "      <th>Postcode</th>\n",
              "      <th>Borough</th>\n",
              "      <th>Neighbourhood</th>\n",
              "      <th>Latitude</th>\n",
              "      <th>Longitude</th>\n",
              "    </tr>\n",
              "  </thead>\n",
              "  <tbody>\n",
              "    <tr>\n",
              "      <th>0</th>\n",
              "      <td>M1B</td>\n",
              "      <td>Scarborough</td>\n",
              "      <td>Rouge,Malvern</td>\n",
              "      <td>43.811525</td>\n",
              "      <td>-79.195517</td>\n",
              "    </tr>\n",
              "    <tr>\n",
              "      <th>1</th>\n",
              "      <td>M1C</td>\n",
              "      <td>Scarborough</td>\n",
              "      <td>Highland Creek,Rouge Hill,Port Union</td>\n",
              "      <td>43.785730</td>\n",
              "      <td>-79.158750</td>\n",
              "    </tr>\n",
              "    <tr>\n",
              "      <th>2</th>\n",
              "      <td>M1E</td>\n",
              "      <td>Scarborough</td>\n",
              "      <td>Guildwood,Morningside,West Hill</td>\n",
              "      <td>43.765690</td>\n",
              "      <td>-79.175256</td>\n",
              "    </tr>\n",
              "    <tr>\n",
              "      <th>3</th>\n",
              "      <td>M1G</td>\n",
              "      <td>Scarborough</td>\n",
              "      <td>Woburn</td>\n",
              "      <td>43.768359</td>\n",
              "      <td>-79.217590</td>\n",
              "    </tr>\n",
              "    <tr>\n",
              "      <th>4</th>\n",
              "      <td>M1H</td>\n",
              "      <td>Scarborough</td>\n",
              "      <td>Cedarbrae</td>\n",
              "      <td>43.769688</td>\n",
              "      <td>-79.239440</td>\n",
              "    </tr>\n",
              "  </tbody>\n",
              "</table>\n",
              "</div>"
            ],
            "text/plain": [
              "  Postcode      Borough  ...   Latitude  Longitude\n",
              "0      M1B  Scarborough  ...  43.811525 -79.195517\n",
              "1      M1C  Scarborough  ...  43.785730 -79.158750\n",
              "2      M1E  Scarborough  ...  43.765690 -79.175256\n",
              "3      M1G  Scarborough  ...  43.768359 -79.217590\n",
              "4      M1H  Scarborough  ...  43.769688 -79.239440\n",
              "\n",
              "[5 rows x 5 columns]"
            ]
          },
          "metadata": {
            "tags": []
          },
          "execution_count": 26
        }
      ]
    },
    {
      "cell_type": "markdown",
      "metadata": {
        "id": "dQ8E4HNuFdfR",
        "colab_type": "text"
      },
      "source": [
        "Looks like it worked! On to the next Part"
      ]
    },
    {
      "cell_type": "markdown",
      "metadata": {
        "id": "KmFz_oYvNaPL",
        "colab_type": "text"
      },
      "source": [
        "## Filtering out Boroughs only in Toronto\n",
        "For this we will only get Boroughs that are in Tornto"
      ]
    },
    {
      "cell_type": "markdown",
      "metadata": {
        "id": "oUjnAa4NN0yc",
        "colab_type": "text"
      },
      "source": [
        "Using a method to format the contents of `[Borough]` we create a mask the filters only those that have Toronto in the string"
      ]
    },
    {
      "cell_type": "code",
      "metadata": {
        "id": "yBkeQ9Dm6vk0",
        "colab_type": "code",
        "colab": {}
      },
      "source": [
        "toronto = pcodes[pcodes['Borough'].str.contains('Toronto')]"
      ],
      "execution_count": 0,
      "outputs": []
    },
    {
      "cell_type": "code",
      "metadata": {
        "id": "WR8Oxc4GEoqR",
        "colab_type": "code",
        "colab": {
          "base_uri": "https://localhost:8080/",
          "height": 1000
        },
        "outputId": "280c2dfa-6001-486f-a5ff-e9e63a1df878"
      },
      "source": [
        "#@title Hidden {display-mode: \"form\"}\n",
        "toronto"
      ],
      "execution_count": 39,
      "outputs": [
        {
          "output_type": "execute_result",
          "data": {
            "text/html": [
              "<div>\n",
              "<style scoped>\n",
              "    .dataframe tbody tr th:only-of-type {\n",
              "        vertical-align: middle;\n",
              "    }\n",
              "\n",
              "    .dataframe tbody tr th {\n",
              "        vertical-align: top;\n",
              "    }\n",
              "\n",
              "    .dataframe thead th {\n",
              "        text-align: right;\n",
              "    }\n",
              "</style>\n",
              "<table border=\"1\" class=\"dataframe\">\n",
              "  <thead>\n",
              "    <tr style=\"text-align: right;\">\n",
              "      <th></th>\n",
              "      <th>Postcode</th>\n",
              "      <th>Borough</th>\n",
              "      <th>Neighbourhood</th>\n",
              "      <th>Latitude</th>\n",
              "      <th>Longitude</th>\n",
              "    </tr>\n",
              "  </thead>\n",
              "  <tbody>\n",
              "    <tr>\n",
              "      <th>37</th>\n",
              "      <td>M4E</td>\n",
              "      <td>East Toronto</td>\n",
              "      <td>The Beaches</td>\n",
              "      <td>43.676845</td>\n",
              "      <td>-79.295225</td>\n",
              "    </tr>\n",
              "    <tr>\n",
              "      <th>41</th>\n",
              "      <td>M4K</td>\n",
              "      <td>East Toronto</td>\n",
              "      <td>The Danforth West,Riverdale</td>\n",
              "      <td>43.683262</td>\n",
              "      <td>-79.355120</td>\n",
              "    </tr>\n",
              "    <tr>\n",
              "      <th>42</th>\n",
              "      <td>M4L</td>\n",
              "      <td>East Toronto</td>\n",
              "      <td>The Beaches West,India Bazaar</td>\n",
              "      <td>43.667965</td>\n",
              "      <td>-79.314673</td>\n",
              "    </tr>\n",
              "    <tr>\n",
              "      <th>43</th>\n",
              "      <td>M4M</td>\n",
              "      <td>East Toronto</td>\n",
              "      <td>Studio District</td>\n",
              "      <td>43.662766</td>\n",
              "      <td>-79.334830</td>\n",
              "    </tr>\n",
              "    <tr>\n",
              "      <th>44</th>\n",
              "      <td>M4N</td>\n",
              "      <td>Central Toronto</td>\n",
              "      <td>Lawrence Park</td>\n",
              "      <td>43.728160</td>\n",
              "      <td>-79.387085</td>\n",
              "    </tr>\n",
              "    <tr>\n",
              "      <th>45</th>\n",
              "      <td>M4P</td>\n",
              "      <td>Central Toronto</td>\n",
              "      <td>Davisville North</td>\n",
              "      <td>43.712815</td>\n",
              "      <td>-79.388526</td>\n",
              "    </tr>\n",
              "    <tr>\n",
              "      <th>46</th>\n",
              "      <td>M4R</td>\n",
              "      <td>Central Toronto</td>\n",
              "      <td>North Toronto West</td>\n",
              "      <td>43.714523</td>\n",
              "      <td>-79.406960</td>\n",
              "    </tr>\n",
              "    <tr>\n",
              "      <th>47</th>\n",
              "      <td>M4S</td>\n",
              "      <td>Central Toronto</td>\n",
              "      <td>Davisville</td>\n",
              "      <td>43.703395</td>\n",
              "      <td>-79.385964</td>\n",
              "    </tr>\n",
              "    <tr>\n",
              "      <th>48</th>\n",
              "      <td>M4T</td>\n",
              "      <td>Central Toronto</td>\n",
              "      <td>Moore Park,Summerhill East</td>\n",
              "      <td>43.690655</td>\n",
              "      <td>-79.383561</td>\n",
              "    </tr>\n",
              "    <tr>\n",
              "      <th>49</th>\n",
              "      <td>M4V</td>\n",
              "      <td>Central Toronto</td>\n",
              "      <td>Deer Park,Forest Hill SE,Rathnelly,South Hill,...</td>\n",
              "      <td>43.686083</td>\n",
              "      <td>-79.402335</td>\n",
              "    </tr>\n",
              "    <tr>\n",
              "      <th>50</th>\n",
              "      <td>M4W</td>\n",
              "      <td>Downtown Toronto</td>\n",
              "      <td>Rosedale</td>\n",
              "      <td>43.681940</td>\n",
              "      <td>-79.378474</td>\n",
              "    </tr>\n",
              "    <tr>\n",
              "      <th>51</th>\n",
              "      <td>M4X</td>\n",
              "      <td>Downtown Toronto</td>\n",
              "      <td>Cabbagetown,St. James Town</td>\n",
              "      <td>43.668160</td>\n",
              "      <td>-79.366602</td>\n",
              "    </tr>\n",
              "    <tr>\n",
              "      <th>52</th>\n",
              "      <td>M4Y</td>\n",
              "      <td>Downtown Toronto</td>\n",
              "      <td>Church and Wellesley</td>\n",
              "      <td>43.666585</td>\n",
              "      <td>-79.381302</td>\n",
              "    </tr>\n",
              "    <tr>\n",
              "      <th>53</th>\n",
              "      <td>M5A</td>\n",
              "      <td>Downtown Toronto</td>\n",
              "      <td>Harbourfront,Regent Park</td>\n",
              "      <td>43.655120</td>\n",
              "      <td>-79.362640</td>\n",
              "    </tr>\n",
              "    <tr>\n",
              "      <th>54</th>\n",
              "      <td>M5B</td>\n",
              "      <td>Downtown Toronto</td>\n",
              "      <td>Ryerson,Garden District</td>\n",
              "      <td>43.657363</td>\n",
              "      <td>-79.378180</td>\n",
              "    </tr>\n",
              "    <tr>\n",
              "      <th>55</th>\n",
              "      <td>M5C</td>\n",
              "      <td>Downtown Toronto</td>\n",
              "      <td>St. James Town</td>\n",
              "      <td>43.651210</td>\n",
              "      <td>-79.375481</td>\n",
              "    </tr>\n",
              "    <tr>\n",
              "      <th>56</th>\n",
              "      <td>M5E</td>\n",
              "      <td>Downtown Toronto</td>\n",
              "      <td>Berczy Park</td>\n",
              "      <td>43.645160</td>\n",
              "      <td>-79.373675</td>\n",
              "    </tr>\n",
              "    <tr>\n",
              "      <th>57</th>\n",
              "      <td>M5G</td>\n",
              "      <td>Downtown Toronto</td>\n",
              "      <td>Central Bay Street</td>\n",
              "      <td>43.656091</td>\n",
              "      <td>-79.384930</td>\n",
              "    </tr>\n",
              "    <tr>\n",
              "      <th>58</th>\n",
              "      <td>M5H</td>\n",
              "      <td>Downtown Toronto</td>\n",
              "      <td>Adelaide,King,Richmond</td>\n",
              "      <td>43.649515</td>\n",
              "      <td>-79.382503</td>\n",
              "    </tr>\n",
              "    <tr>\n",
              "      <th>59</th>\n",
              "      <td>M5J</td>\n",
              "      <td>Downtown Toronto</td>\n",
              "      <td>Harbourfront East,Toronto Islands,Union Station</td>\n",
              "      <td>43.623470</td>\n",
              "      <td>-79.391507</td>\n",
              "    </tr>\n",
              "    <tr>\n",
              "      <th>60</th>\n",
              "      <td>M5K</td>\n",
              "      <td>Downtown Toronto</td>\n",
              "      <td>Design Exchange,Toronto Dominion Centre</td>\n",
              "      <td>43.647100</td>\n",
              "      <td>-79.381531</td>\n",
              "    </tr>\n",
              "    <tr>\n",
              "      <th>61</th>\n",
              "      <td>M5L</td>\n",
              "      <td>Downtown Toronto</td>\n",
              "      <td>Commerce Court,Victoria Hotel</td>\n",
              "      <td>43.648205</td>\n",
              "      <td>-79.378793</td>\n",
              "    </tr>\n",
              "    <tr>\n",
              "      <th>63</th>\n",
              "      <td>M5N</td>\n",
              "      <td>Central Toronto</td>\n",
              "      <td>Roselawn</td>\n",
              "      <td>43.711941</td>\n",
              "      <td>-79.419120</td>\n",
              "    </tr>\n",
              "    <tr>\n",
              "      <th>64</th>\n",
              "      <td>M5P</td>\n",
              "      <td>Central Toronto</td>\n",
              "      <td>Forest Hill North,Forest Hill West</td>\n",
              "      <td>43.694785</td>\n",
              "      <td>-79.414405</td>\n",
              "    </tr>\n",
              "    <tr>\n",
              "      <th>65</th>\n",
              "      <td>M5R</td>\n",
              "      <td>Central Toronto</td>\n",
              "      <td>The Annex,North Midtown,Yorkville</td>\n",
              "      <td>43.674840</td>\n",
              "      <td>-79.403698</td>\n",
              "    </tr>\n",
              "    <tr>\n",
              "      <th>66</th>\n",
              "      <td>M5S</td>\n",
              "      <td>Downtown Toronto</td>\n",
              "      <td>Harbord,University of Toronto</td>\n",
              "      <td>43.663110</td>\n",
              "      <td>-79.401801</td>\n",
              "    </tr>\n",
              "    <tr>\n",
              "      <th>67</th>\n",
              "      <td>M5T</td>\n",
              "      <td>Downtown Toronto</td>\n",
              "      <td>Chinatown,Grange Park,Kensington Market</td>\n",
              "      <td>43.653570</td>\n",
              "      <td>-79.397249</td>\n",
              "    </tr>\n",
              "    <tr>\n",
              "      <th>68</th>\n",
              "      <td>M5V</td>\n",
              "      <td>Downtown Toronto</td>\n",
              "      <td>CN Tower,Bathurst Quay,Island airport,Harbourf...</td>\n",
              "      <td>43.640815</td>\n",
              "      <td>-79.399538</td>\n",
              "    </tr>\n",
              "    <tr>\n",
              "      <th>69</th>\n",
              "      <td>M5W</td>\n",
              "      <td>Downtown Toronto</td>\n",
              "      <td>Stn A PO Boxes 25 The Esplanade</td>\n",
              "      <td>43.648690</td>\n",
              "      <td>-79.385440</td>\n",
              "    </tr>\n",
              "    <tr>\n",
              "      <th>70</th>\n",
              "      <td>M5X</td>\n",
              "      <td>Downtown Toronto</td>\n",
              "      <td>First Canadian Place,Underground city</td>\n",
              "      <td>43.648280</td>\n",
              "      <td>-79.381461</td>\n",
              "    </tr>\n",
              "    <tr>\n",
              "      <th>75</th>\n",
              "      <td>M6G</td>\n",
              "      <td>Downtown Toronto</td>\n",
              "      <td>Christie</td>\n",
              "      <td>43.668781</td>\n",
              "      <td>-79.420710</td>\n",
              "    </tr>\n",
              "    <tr>\n",
              "      <th>76</th>\n",
              "      <td>M6H</td>\n",
              "      <td>West Toronto</td>\n",
              "      <td>Dovercourt Village,Dufferin</td>\n",
              "      <td>43.665087</td>\n",
              "      <td>-79.438705</td>\n",
              "    </tr>\n",
              "    <tr>\n",
              "      <th>77</th>\n",
              "      <td>M6J</td>\n",
              "      <td>West Toronto</td>\n",
              "      <td>Little Portugal,Trinity</td>\n",
              "      <td>43.648485</td>\n",
              "      <td>-79.417742</td>\n",
              "    </tr>\n",
              "    <tr>\n",
              "      <th>78</th>\n",
              "      <td>M6K</td>\n",
              "      <td>West Toronto</td>\n",
              "      <td>Brockton,Exhibition Place,Parkdale Village</td>\n",
              "      <td>43.639410</td>\n",
              "      <td>-79.424362</td>\n",
              "    </tr>\n",
              "    <tr>\n",
              "      <th>82</th>\n",
              "      <td>M6P</td>\n",
              "      <td>West Toronto</td>\n",
              "      <td>High Park,The Junction South</td>\n",
              "      <td>43.659975</td>\n",
              "      <td>-79.462874</td>\n",
              "    </tr>\n",
              "    <tr>\n",
              "      <th>83</th>\n",
              "      <td>M6R</td>\n",
              "      <td>West Toronto</td>\n",
              "      <td>Parkdale,Roncesvalles</td>\n",
              "      <td>43.647870</td>\n",
              "      <td>-79.449762</td>\n",
              "    </tr>\n",
              "    <tr>\n",
              "      <th>84</th>\n",
              "      <td>M6S</td>\n",
              "      <td>West Toronto</td>\n",
              "      <td>Runnymede,Swansea</td>\n",
              "      <td>43.649885</td>\n",
              "      <td>-79.474929</td>\n",
              "    </tr>\n",
              "    <tr>\n",
              "      <th>87</th>\n",
              "      <td>M7Y</td>\n",
              "      <td>East Toronto</td>\n",
              "      <td>Business Reply Mail Processing Centre 969 Eastern</td>\n",
              "      <td>43.648690</td>\n",
              "      <td>-79.385440</td>\n",
              "    </tr>\n",
              "  </tbody>\n",
              "</table>\n",
              "</div>"
            ],
            "text/plain": [
              "   Postcode           Borough  ...   Latitude  Longitude\n",
              "37      M4E      East Toronto  ...  43.676845 -79.295225\n",
              "41      M4K      East Toronto  ...  43.683262 -79.355120\n",
              "42      M4L      East Toronto  ...  43.667965 -79.314673\n",
              "43      M4M      East Toronto  ...  43.662766 -79.334830\n",
              "44      M4N   Central Toronto  ...  43.728160 -79.387085\n",
              "45      M4P   Central Toronto  ...  43.712815 -79.388526\n",
              "46      M4R   Central Toronto  ...  43.714523 -79.406960\n",
              "47      M4S   Central Toronto  ...  43.703395 -79.385964\n",
              "48      M4T   Central Toronto  ...  43.690655 -79.383561\n",
              "49      M4V   Central Toronto  ...  43.686083 -79.402335\n",
              "50      M4W  Downtown Toronto  ...  43.681940 -79.378474\n",
              "51      M4X  Downtown Toronto  ...  43.668160 -79.366602\n",
              "52      M4Y  Downtown Toronto  ...  43.666585 -79.381302\n",
              "53      M5A  Downtown Toronto  ...  43.655120 -79.362640\n",
              "54      M5B  Downtown Toronto  ...  43.657363 -79.378180\n",
              "55      M5C  Downtown Toronto  ...  43.651210 -79.375481\n",
              "56      M5E  Downtown Toronto  ...  43.645160 -79.373675\n",
              "57      M5G  Downtown Toronto  ...  43.656091 -79.384930\n",
              "58      M5H  Downtown Toronto  ...  43.649515 -79.382503\n",
              "59      M5J  Downtown Toronto  ...  43.623470 -79.391507\n",
              "60      M5K  Downtown Toronto  ...  43.647100 -79.381531\n",
              "61      M5L  Downtown Toronto  ...  43.648205 -79.378793\n",
              "63      M5N   Central Toronto  ...  43.711941 -79.419120\n",
              "64      M5P   Central Toronto  ...  43.694785 -79.414405\n",
              "65      M5R   Central Toronto  ...  43.674840 -79.403698\n",
              "66      M5S  Downtown Toronto  ...  43.663110 -79.401801\n",
              "67      M5T  Downtown Toronto  ...  43.653570 -79.397249\n",
              "68      M5V  Downtown Toronto  ...  43.640815 -79.399538\n",
              "69      M5W  Downtown Toronto  ...  43.648690 -79.385440\n",
              "70      M5X  Downtown Toronto  ...  43.648280 -79.381461\n",
              "75      M6G  Downtown Toronto  ...  43.668781 -79.420710\n",
              "76      M6H      West Toronto  ...  43.665087 -79.438705\n",
              "77      M6J      West Toronto  ...  43.648485 -79.417742\n",
              "78      M6K      West Toronto  ...  43.639410 -79.424362\n",
              "82      M6P      West Toronto  ...  43.659975 -79.462874\n",
              "83      M6R      West Toronto  ...  43.647870 -79.449762\n",
              "84      M6S      West Toronto  ...  43.649885 -79.474929\n",
              "87      M7Y      East Toronto  ...  43.648690 -79.385440\n",
              "\n",
              "[38 rows x 5 columns]"
            ]
          },
          "metadata": {
            "tags": []
          },
          "execution_count": 39
        }
      ]
    },
    {
      "cell_type": "markdown",
      "metadata": {
        "id": "JzkCpYcnOfa9",
        "colab_type": "text"
      },
      "source": [
        "We first import folium and Nominatim. Nominatim is a method for getting the geolocation of a certain place"
      ]
    },
    {
      "cell_type": "code",
      "metadata": {
        "id": "G7XKog-MCVNQ",
        "colab_type": "code",
        "colab": {}
      },
      "source": [
        "import folium\n",
        "from geopy.geocoders import Nominatim"
      ],
      "execution_count": 0,
      "outputs": []
    },
    {
      "cell_type": "code",
      "metadata": {
        "id": "rVn9DX5qLmEW",
        "colab_type": "code",
        "colab": {}
      },
      "source": [
        ""
      ],
      "execution_count": 0,
      "outputs": []
    },
    {
      "cell_type": "markdown",
      "metadata": {
        "id": "eyXixlW1TO6M",
        "colab_type": "text"
      },
      "source": [
        "Lets get the latitude and longitude of Toronto for our map"
      ]
    },
    {
      "cell_type": "code",
      "metadata": {
        "id": "lcPXvCf_Qmod",
        "colab_type": "code",
        "colab": {
          "base_uri": "https://localhost:8080/",
          "height": 51
        },
        "outputId": "33ec63e3-1e58-45a0-c4a1-902b32ddc1d0"
      },
      "source": [
        "toronto_loc = Nominatim(user_agent='explorer').geocode('Toronto, Ontario')\n",
        "\n",
        "print(toronto_loc.latitude)\n",
        "print(toronto_loc.longitude)"
      ],
      "execution_count": 235,
      "outputs": [
        {
          "output_type": "stream",
          "text": [
            "43.653963\n",
            "-79.387207\n"
          ],
          "name": "stdout"
        }
      ]
    },
    {
      "cell_type": "code",
      "metadata": {
        "id": "_F5Hg3fnEU9Y",
        "colab_type": "code",
        "colab": {
          "base_uri": "https://localhost:8080/",
          "height": 377
        },
        "outputId": "2971ef51-4cfb-4c5c-ecaa-ba9c89e64fea"
      },
      "source": [
        "toronto_map = folium.Map((toronto_loc.latitude, toronto_loc.longitude), zoom_start =13, min_zoom = 12)\n",
        "for lon,lat,borough, neigh in zip(toronto['Longitude'], toronto['Latitude'],toronto['Borough'],toronto['Neighbourhood'] ):\n",
        "  label = f\"{borough}, {neigh}\"\n",
        "  label = folium.Popup(label, parse_html=True)\n",
        "  folium.CircleMarker([lat,lon],\n",
        "                      popup= label,\n",
        "                      radius = 4,\n",
        "                      color='blue',\n",
        "                      fill=True,\n",
        "                      fill_color='#3186cc',\n",
        "                     ).add_to(toronto_map)\n",
        "toronto_map\n"
      ],
      "execution_count": 250,
      "outputs": [
        {
          "output_type": "execute_result",
          "data": {
            "text/html": [
              "<div style=\"width:100%;\"><div style=\"position:relative;width:100%;height:0;padding-bottom:60%;\"><iframe src=\"data:text/html;charset=utf-8;base64,PCFET0NUWVBFIGh0bWw+CjxoZWFkPiAgICAKICAgIDxtZXRhIGh0dHAtZXF1aXY9ImNvbnRlbnQtdHlwZSIgY29udGVudD0idGV4dC9odG1sOyBjaGFyc2V0PVVURi04IiAvPgogICAgPHNjcmlwdD5MX1BSRUZFUl9DQU5WQVM9ZmFsc2U7IExfTk9fVE9VQ0g9ZmFsc2U7IExfRElTQUJMRV8zRD1mYWxzZTs8L3NjcmlwdD4KICAgIDxzY3JpcHQgc3JjPSJodHRwczovL2Nkbi5qc2RlbGl2ci5uZXQvbnBtL2xlYWZsZXRAMS40LjAvZGlzdC9sZWFmbGV0LmpzIj48L3NjcmlwdD4KICAgIDxzY3JpcHQgc3JjPSJodHRwczovL2NvZGUuanF1ZXJ5LmNvbS9qcXVlcnktMS4xMi40Lm1pbi5qcyI+PC9zY3JpcHQ+CiAgICA8c2NyaXB0IHNyYz0iaHR0cHM6Ly9tYXhjZG4uYm9vdHN0cmFwY2RuLmNvbS9ib290c3RyYXAvMy4yLjAvanMvYm9vdHN0cmFwLm1pbi5qcyI+PC9zY3JpcHQ+CiAgICA8c2NyaXB0IHNyYz0iaHR0cHM6Ly9jZG5qcy5jbG91ZGZsYXJlLmNvbS9hamF4L2xpYnMvTGVhZmxldC5hd2Vzb21lLW1hcmtlcnMvMi4wLjIvbGVhZmxldC5hd2Vzb21lLW1hcmtlcnMuanMiPjwvc2NyaXB0PgogICAgPGxpbmsgcmVsPSJzdHlsZXNoZWV0IiBocmVmPSJodHRwczovL2Nkbi5qc2RlbGl2ci5uZXQvbnBtL2xlYWZsZXRAMS40LjAvZGlzdC9sZWFmbGV0LmNzcyIvPgogICAgPGxpbmsgcmVsPSJzdHlsZXNoZWV0IiBocmVmPSJodHRwczovL21heGNkbi5ib290c3RyYXBjZG4uY29tL2Jvb3RzdHJhcC8zLjIuMC9jc3MvYm9vdHN0cmFwLm1pbi5jc3MiLz4KICAgIDxsaW5rIHJlbD0ic3R5bGVzaGVldCIgaHJlZj0iaHR0cHM6Ly9tYXhjZG4uYm9vdHN0cmFwY2RuLmNvbS9ib290c3RyYXAvMy4yLjAvY3NzL2Jvb3RzdHJhcC10aGVtZS5taW4uY3NzIi8+CiAgICA8bGluayByZWw9InN0eWxlc2hlZXQiIGhyZWY9Imh0dHBzOi8vbWF4Y2RuLmJvb3RzdHJhcGNkbi5jb20vZm9udC1hd2Vzb21lLzQuNi4zL2Nzcy9mb250LWF3ZXNvbWUubWluLmNzcyIvPgogICAgPGxpbmsgcmVsPSJzdHlsZXNoZWV0IiBocmVmPSJodHRwczovL2NkbmpzLmNsb3VkZmxhcmUuY29tL2FqYXgvbGlicy9MZWFmbGV0LmF3ZXNvbWUtbWFya2Vycy8yLjAuMi9sZWFmbGV0LmF3ZXNvbWUtbWFya2Vycy5jc3MiLz4KICAgIDxsaW5rIHJlbD0ic3R5bGVzaGVldCIgaHJlZj0iaHR0cHM6Ly9yYXdjZG4uZ2l0aGFjay5jb20vcHl0aG9uLXZpc3VhbGl6YXRpb24vZm9saXVtL21hc3Rlci9mb2xpdW0vdGVtcGxhdGVzL2xlYWZsZXQuYXdlc29tZS5yb3RhdGUuY3NzIi8+CiAgICA8c3R5bGU+aHRtbCwgYm9keSB7d2lkdGg6IDEwMCU7aGVpZ2h0OiAxMDAlO21hcmdpbjogMDtwYWRkaW5nOiAwO308L3N0eWxlPgogICAgPHN0eWxlPiNtYXAge3Bvc2l0aW9uOmFic29sdXRlO3RvcDowO2JvdHRvbTowO3JpZ2h0OjA7bGVmdDowO308L3N0eWxlPgogICAgCiAgICA8bWV0YSBuYW1lPSJ2aWV3cG9ydCIgY29udGVudD0id2lkdGg9ZGV2aWNlLXdpZHRoLAogICAgICAgIGluaXRpYWwtc2NhbGU9MS4wLCBtYXhpbXVtLXNjYWxlPTEuMCwgdXNlci1zY2FsYWJsZT1ubyIgLz4KICAgIDxzdHlsZT4jbWFwXzc0MTEyYjVlNzMyNTQ0M2Y5MzkwZmU0ODU1ZTY0MzE5IHsKICAgICAgICBwb3NpdGlvbjogcmVsYXRpdmU7CiAgICAgICAgd2lkdGg6IDEwMC4wJTsKICAgICAgICBoZWlnaHQ6IDEwMC4wJTsKICAgICAgICBsZWZ0OiAwLjAlOwogICAgICAgIHRvcDogMC4wJTsKICAgICAgICB9CiAgICA8L3N0eWxlPgo8L2hlYWQ+Cjxib2R5PiAgICAKICAgIAogICAgPGRpdiBjbGFzcz0iZm9saXVtLW1hcCIgaWQ9Im1hcF83NDExMmI1ZTczMjU0NDNmOTM5MGZlNDg1NWU2NDMxOSIgPjwvZGl2Pgo8L2JvZHk+CjxzY3JpcHQ+ICAgIAogICAgCiAgICAKICAgICAgICB2YXIgYm91bmRzID0gbnVsbDsKICAgIAoKICAgIHZhciBtYXBfNzQxMTJiNWU3MzI1NDQzZjkzOTBmZTQ4NTVlNjQzMTkgPSBMLm1hcCgKICAgICAgICAnbWFwXzc0MTEyYjVlNzMyNTQ0M2Y5MzkwZmU0ODU1ZTY0MzE5JywgewogICAgICAgIGNlbnRlcjogWzQzLjY1Mzk2MywgLTc5LjM4NzIwN10sCiAgICAgICAgem9vbTogMTMsCiAgICAgICAgbWF4Qm91bmRzOiBib3VuZHMsCiAgICAgICAgbGF5ZXJzOiBbXSwKICAgICAgICB3b3JsZENvcHlKdW1wOiBmYWxzZSwKICAgICAgICBjcnM6IEwuQ1JTLkVQU0czODU3LAogICAgICAgIHpvb21Db250cm9sOiB0cnVlLAogICAgICAgIH0pOwoKCiAgICAKICAgIHZhciB0aWxlX2xheWVyX2E0NDlkNjFlMjg2MTQ5ZDk5OTFmYzI2MjcxMzE3ZDdjID0gTC50aWxlTGF5ZXIoCiAgICAgICAgJ2h0dHBzOi8ve3N9LnRpbGUub3BlbnN0cmVldG1hcC5vcmcve3p9L3t4fS97eX0ucG5nJywKICAgICAgICB7CiAgICAgICAgImF0dHJpYnV0aW9uIjogbnVsbCwKICAgICAgICAiZGV0ZWN0UmV0aW5hIjogZmFsc2UsCiAgICAgICAgIm1heE5hdGl2ZVpvb20iOiAxOCwKICAgICAgICAibWF4Wm9vbSI6IDE4LAogICAgICAgICJtaW5ab29tIjogMTIsCiAgICAgICAgIm5vV3JhcCI6IGZhbHNlLAogICAgICAgICJvcGFjaXR5IjogMSwKICAgICAgICAic3ViZG9tYWlucyI6ICJhYmMiLAogICAgICAgICJ0bXMiOiBmYWxzZQp9KS5hZGRUbyhtYXBfNzQxMTJiNWU3MzI1NDQzZjkzOTBmZTQ4NTVlNjQzMTkpOwogICAgCiAgICAgICAgICAgIHZhciBjaXJjbGVfbWFya2VyXzQyYjhhZGM3NzI3MjRhYzlhMzg2NWZmZTI1MjcyNjVhID0gTC5jaXJjbGVNYXJrZXIoCiAgICAgICAgICAgICAgICBbNDMuNjc2ODQ1MTgzMDAwMDcsIC03OS4yOTUyMjQ5OTk5OTk5Nl0sCiAgICAgICAgICAgICAgICB7CiAgImJ1YmJsaW5nTW91c2VFdmVudHMiOiB0cnVlLAogICJjb2xvciI6ICJibHVlIiwKICAiZGFzaEFycmF5IjogbnVsbCwKICAiZGFzaE9mZnNldCI6IG51bGwsCiAgImZpbGwiOiB0cnVlLAogICJmaWxsQ29sb3IiOiAiIzMxODZjYyIsCiAgImZpbGxPcGFjaXR5IjogMC4yLAogICJmaWxsUnVsZSI6ICJldmVub2RkIiwKICAibGluZUNhcCI6ICJyb3VuZCIsCiAgImxpbmVKb2luIjogInJvdW5kIiwKICAib3BhY2l0eSI6IDEuMCwKICAicmFkaXVzIjogNCwKICAic3Ryb2tlIjogdHJ1ZSwKICAid2VpZ2h0IjogMwp9CiAgICAgICAgICAgICAgICApCiAgICAgICAgICAgICAgICAuYWRkVG8obWFwXzc0MTEyYjVlNzMyNTQ0M2Y5MzkwZmU0ODU1ZTY0MzE5KTsKICAgICAgICAgICAgCiAgICAKICAgICAgICAgICAgdmFyIHBvcHVwXzU2NDI5OTFmYzQ4YjQ3M2RhZGJiMGUxZjVlYjBmNTJiID0gTC5wb3B1cCh7bWF4V2lkdGg6ICcxMDAlJwogICAgICAgICAgICAKICAgICAgICAgICAgfSk7CgogICAgICAgICAgICAKICAgICAgICAgICAgICAgIHZhciBodG1sXzYzNjFkODI0MmUyNzRiNDlhY2YyN2MxYWU2MGZlNGFlID0gJChgPGRpdiBpZD0iaHRtbF82MzYxZDgyNDJlMjc0YjQ5YWNmMjdjMWFlNjBmZTRhZSIgc3R5bGU9IndpZHRoOiAxMDAuMCU7IGhlaWdodDogMTAwLjAlOyI+RWFzdCBUb3JvbnRvLCBUaGUgQmVhY2hlczwvZGl2PmApWzBdOwogICAgICAgICAgICAgICAgcG9wdXBfNTY0Mjk5MWZjNDhiNDczZGFkYmIwZTFmNWViMGY1MmIuc2V0Q29udGVudChodG1sXzYzNjFkODI0MmUyNzRiNDlhY2YyN2MxYWU2MGZlNGFlKTsKICAgICAgICAgICAgCgogICAgICAgICAgICBjaXJjbGVfbWFya2VyXzQyYjhhZGM3NzI3MjRhYzlhMzg2NWZmZTI1MjcyNjVhLmJpbmRQb3B1cChwb3B1cF81NjQyOTkxZmM0OGI0NzNkYWRiYjBlMWY1ZWIwZjUyYikKICAgICAgICAgICAgOwoKICAgICAgICAgICAgCiAgICAgICAgCiAgICAKICAgICAgICAgICAgdmFyIGNpcmNsZV9tYXJrZXJfOTg1ZGNjMjcxZWI5NDkxN2IwODFiYjRhOTM4ZmFkOTUgPSBMLmNpcmNsZU1hcmtlcigKICAgICAgICAgICAgICAgIFs0My42ODMyNjE1MDAwMDAwNywgLTc5LjM1NTExOTk5OTk5OTk0XSwKICAgICAgICAgICAgICAgIHsKICAiYnViYmxpbmdNb3VzZUV2ZW50cyI6IHRydWUsCiAgImNvbG9yIjogImJsdWUiLAogICJkYXNoQXJyYXkiOiBudWxsLAogICJkYXNoT2Zmc2V0IjogbnVsbCwKICAiZmlsbCI6IHRydWUsCiAgImZpbGxDb2xvciI6ICIjMzE4NmNjIiwKICAiZmlsbE9wYWNpdHkiOiAwLjIsCiAgImZpbGxSdWxlIjogImV2ZW5vZGQiLAogICJsaW5lQ2FwIjogInJvdW5kIiwKICAibGluZUpvaW4iOiAicm91bmQiLAogICJvcGFjaXR5IjogMS4wLAogICJyYWRpdXMiOiA0LAogICJzdHJva2UiOiB0cnVlLAogICJ3ZWlnaHQiOiAzCn0KICAgICAgICAgICAgICAgICkKICAgICAgICAgICAgICAgIC5hZGRUbyhtYXBfNzQxMTJiNWU3MzI1NDQzZjkzOTBmZTQ4NTVlNjQzMTkpOwogICAgICAgICAgICAKICAgIAogICAgICAgICAgICB2YXIgcG9wdXBfODljZmVlZjA3ZmU3NDdiZmJhMWU4MjI3OWRjYjViZmEgPSBMLnBvcHVwKHttYXhXaWR0aDogJzEwMCUnCiAgICAgICAgICAgIAogICAgICAgICAgICB9KTsKCiAgICAgICAgICAgIAogICAgICAgICAgICAgICAgdmFyIGh0bWxfNTk3MzA0M2E5ZWRiNDU4Mjg0ZWYzNWI5NmMxYWIyNWUgPSAkKGA8ZGl2IGlkPSJodG1sXzU5NzMwNDNhOWVkYjQ1ODI4NGVmMzViOTZjMWFiMjVlIiBzdHlsZT0id2lkdGg6IDEwMC4wJTsgaGVpZ2h0OiAxMDAuMCU7Ij5FYXN0IFRvcm9udG8sIFRoZSBEYW5mb3J0aCBXZXN0LFJpdmVyZGFsZTwvZGl2PmApWzBdOwogICAgICAgICAgICAgICAgcG9wdXBfODljZmVlZjA3ZmU3NDdiZmJhMWU4MjI3OWRjYjViZmEuc2V0Q29udGVudChodG1sXzU5NzMwNDNhOWVkYjQ1ODI4NGVmMzViOTZjMWFiMjVlKTsKICAgICAgICAgICAgCgogICAgICAgICAgICBjaXJjbGVfbWFya2VyXzk4NWRjYzI3MWViOTQ5MTdiMDgxYmI0YTkzOGZhZDk1LmJpbmRQb3B1cChwb3B1cF84OWNmZWVmMDdmZTc0N2JmYmExZTgyMjc5ZGNiNWJmYSkKICAgICAgICAgICAgOwoKICAgICAgICAgICAgCiAgICAgICAgCiAgICAKICAgICAgICAgICAgdmFyIGNpcmNsZV9tYXJrZXJfYzBkZThmYTIyMmMwNDc3Yjk4N2U0OTA4ZTFlOGU4MzMgPSBMLmNpcmNsZU1hcmtlcigKICAgICAgICAgICAgICAgIFs0My42Njc5NjUwMDAwMDAwNCwgLTc5LjMxNDY3MjUxMDk5OTk3XSwKICAgICAgICAgICAgICAgIHsKICAiYnViYmxpbmdNb3VzZUV2ZW50cyI6IHRydWUsCiAgImNvbG9yIjogImJsdWUiLAogICJkYXNoQXJyYXkiOiBudWxsLAogICJkYXNoT2Zmc2V0IjogbnVsbCwKICAiZmlsbCI6IHRydWUsCiAgImZpbGxDb2xvciI6ICIjMzE4NmNjIiwKICAiZmlsbE9wYWNpdHkiOiAwLjIsCiAgImZpbGxSdWxlIjogImV2ZW5vZGQiLAogICJsaW5lQ2FwIjogInJvdW5kIiwKICAibGluZUpvaW4iOiAicm91bmQiLAogICJvcGFjaXR5IjogMS4wLAogICJyYWRpdXMiOiA0LAogICJzdHJva2UiOiB0cnVlLAogICJ3ZWlnaHQiOiAzCn0KICAgICAgICAgICAgICAgICkKICAgICAgICAgICAgICAgIC5hZGRUbyhtYXBfNzQxMTJiNWU3MzI1NDQzZjkzOTBmZTQ4NTVlNjQzMTkpOwogICAgICAgICAgICAKICAgIAogICAgICAgICAgICB2YXIgcG9wdXBfNjAzY2Q3MmIwODczNGE2OTkwOWZjYzlhZmU0OGRmODkgPSBMLnBvcHVwKHttYXhXaWR0aDogJzEwMCUnCiAgICAgICAgICAgIAogICAgICAgICAgICB9KTsKCiAgICAgICAgICAgIAogICAgICAgICAgICAgICAgdmFyIGh0bWxfMDQ0MzkwMDI1OTNlNGZlMWJjOTE5MDRkMzAyYTg0MjAgPSAkKGA8ZGl2IGlkPSJodG1sXzA0NDM5MDAyNTkzZTRmZTFiYzkxOTA0ZDMwMmE4NDIwIiBzdHlsZT0id2lkdGg6IDEwMC4wJTsgaGVpZ2h0OiAxMDAuMCU7Ij5FYXN0IFRvcm9udG8sIFRoZSBCZWFjaGVzIFdlc3QsSW5kaWEgQmF6YWFyPC9kaXY+YClbMF07CiAgICAgICAgICAgICAgICBwb3B1cF82MDNjZDcyYjA4NzM0YTY5OTA5ZmNjOWFmZTQ4ZGY4OS5zZXRDb250ZW50KGh0bWxfMDQ0MzkwMDI1OTNlNGZlMWJjOTE5MDRkMzAyYTg0MjApOwogICAgICAgICAgICAKCiAgICAgICAgICAgIGNpcmNsZV9tYXJrZXJfYzBkZThmYTIyMmMwNDc3Yjk4N2U0OTA4ZTFlOGU4MzMuYmluZFBvcHVwKHBvcHVwXzYwM2NkNzJiMDg3MzRhNjk5MDlmY2M5YWZlNDhkZjg5KQogICAgICAgICAgICA7CgogICAgICAgICAgICAKICAgICAgICAKICAgIAogICAgICAgICAgICB2YXIgY2lyY2xlX21hcmtlcl80YjgzNjI2ZTIwNTk0YjU1YmNiZmM2M2UxNTk3OTIyZCA9IEwuY2lyY2xlTWFya2VyKAogICAgICAgICAgICAgICAgWzQzLjY2Mjc2NTY1MjAwMDA3NiwgLTc5LjMzNDgyOTk5OTk5OTk1XSwKICAgICAgICAgICAgICAgIHsKICAiYnViYmxpbmdNb3VzZUV2ZW50cyI6IHRydWUsCiAgImNvbG9yIjogImJsdWUiLAogICJkYXNoQXJyYXkiOiBudWxsLAogICJkYXNoT2Zmc2V0IjogbnVsbCwKICAiZmlsbCI6IHRydWUsCiAgImZpbGxDb2xvciI6ICIjMzE4NmNjIiwKICAiZmlsbE9wYWNpdHkiOiAwLjIsCiAgImZpbGxSdWxlIjogImV2ZW5vZGQiLAogICJsaW5lQ2FwIjogInJvdW5kIiwKICAibGluZUpvaW4iOiAicm91bmQiLAogICJvcGFjaXR5IjogMS4wLAogICJyYWRpdXMiOiA0LAogICJzdHJva2UiOiB0cnVlLAogICJ3ZWlnaHQiOiAzCn0KICAgICAgICAgICAgICAgICkKICAgICAgICAgICAgICAgIC5hZGRUbyhtYXBfNzQxMTJiNWU3MzI1NDQzZjkzOTBmZTQ4NTVlNjQzMTkpOwogICAgICAgICAgICAKICAgIAogICAgICAgICAgICB2YXIgcG9wdXBfMjE4ZDRmZWVjOTkwNDFhNGFlODZiMjljNjRiMjljODUgPSBMLnBvcHVwKHttYXhXaWR0aDogJzEwMCUnCiAgICAgICAgICAgIAogICAgICAgICAgICB9KTsKCiAgICAgICAgICAgIAogICAgICAgICAgICAgICAgdmFyIGh0bWxfMjkwMDFlMjAwODQyNDE3Mjk5YjNhYTMwZmVhMDQ1NjEgPSAkKGA8ZGl2IGlkPSJodG1sXzI5MDAxZTIwMDg0MjQxNzI5OWIzYWEzMGZlYTA0NTYxIiBzdHlsZT0id2lkdGg6IDEwMC4wJTsgaGVpZ2h0OiAxMDAuMCU7Ij5FYXN0IFRvcm9udG8sIFN0dWRpbyBEaXN0cmljdDwvZGl2PmApWzBdOwogICAgICAgICAgICAgICAgcG9wdXBfMjE4ZDRmZWVjOTkwNDFhNGFlODZiMjljNjRiMjljODUuc2V0Q29udGVudChodG1sXzI5MDAxZTIwMDg0MjQxNzI5OWIzYWEzMGZlYTA0NTYxKTsKICAgICAgICAgICAgCgogICAgICAgICAgICBjaXJjbGVfbWFya2VyXzRiODM2MjZlMjA1OTRiNTViY2JmYzYzZTE1OTc5MjJkLmJpbmRQb3B1cChwb3B1cF8yMThkNGZlZWM5OTA0MWE0YWU4NmIyOWM2NGIyOWM4NSkKICAgICAgICAgICAgOwoKICAgICAgICAgICAgCiAgICAgICAgCiAgICAKICAgICAgICAgICAgdmFyIGNpcmNsZV9tYXJrZXJfYjQ5YmQ1MWQ1OGQzNDI0M2IyMmJiNWMzODE1YTY5MWMgPSBMLmNpcmNsZU1hcmtlcigKICAgICAgICAgICAgICAgIFs0My43MjgxNjAwMDAwMDAwNiwgLTc5LjM4NzA4NTE4Nzk5OTk2XSwKICAgICAgICAgICAgICAgIHsKICAiYnViYmxpbmdNb3VzZUV2ZW50cyI6IHRydWUsCiAgImNvbG9yIjogImJsdWUiLAogICJkYXNoQXJyYXkiOiBudWxsLAogICJkYXNoT2Zmc2V0IjogbnVsbCwKICAiZmlsbCI6IHRydWUsCiAgImZpbGxDb2xvciI6ICIjMzE4NmNjIiwKICAiZmlsbE9wYWNpdHkiOiAwLjIsCiAgImZpbGxSdWxlIjogImV2ZW5vZGQiLAogICJsaW5lQ2FwIjogInJvdW5kIiwKICAibGluZUpvaW4iOiAicm91bmQiLAogICJvcGFjaXR5IjogMS4wLAogICJyYWRpdXMiOiA0LAogICJzdHJva2UiOiB0cnVlLAogICJ3ZWlnaHQiOiAzCn0KICAgICAgICAgICAgICAgICkKICAgICAgICAgICAgICAgIC5hZGRUbyhtYXBfNzQxMTJiNWU3MzI1NDQzZjkzOTBmZTQ4NTVlNjQzMTkpOwogICAgICAgICAgICAKICAgIAogICAgICAgICAgICB2YXIgcG9wdXBfNGU1MDc3MDA5MDFhNDhjZjg4ZWUzMzY2NTRkMjFmMWMgPSBMLnBvcHVwKHttYXhXaWR0aDogJzEwMCUnCiAgICAgICAgICAgIAogICAgICAgICAgICB9KTsKCiAgICAgICAgICAgIAogICAgICAgICAgICAgICAgdmFyIGh0bWxfZDA3ZjI5NjkwZjAwNGE0ZmJkYjNlMzE0MTdkM2U3YzkgPSAkKGA8ZGl2IGlkPSJodG1sX2QwN2YyOTY5MGYwMDRhNGZiZGIzZTMxNDE3ZDNlN2M5IiBzdHlsZT0id2lkdGg6IDEwMC4wJTsgaGVpZ2h0OiAxMDAuMCU7Ij5DZW50cmFsIFRvcm9udG8sIExhd3JlbmNlIFBhcms8L2Rpdj5gKVswXTsKICAgICAgICAgICAgICAgIHBvcHVwXzRlNTA3NzAwOTAxYTQ4Y2Y4OGVlMzM2NjU0ZDIxZjFjLnNldENvbnRlbnQoaHRtbF9kMDdmMjk2OTBmMDA0YTRmYmRiM2UzMTQxN2QzZTdjOSk7CiAgICAgICAgICAgIAoKICAgICAgICAgICAgY2lyY2xlX21hcmtlcl9iNDliZDUxZDU4ZDM0MjQzYjIyYmI1YzM4MTVhNjkxYy5iaW5kUG9wdXAocG9wdXBfNGU1MDc3MDA5MDFhNDhjZjg4ZWUzMzY2NTRkMjFmMWMpCiAgICAgICAgICAgIDsKCiAgICAgICAgICAgIAogICAgICAgIAogICAgCiAgICAgICAgICAgIHZhciBjaXJjbGVfbWFya2VyXzdkMmFmMDUxYTQ2MDQ3ZDk5ZmU2OTMwMDNkOTA2ZGZhID0gTC5jaXJjbGVNYXJrZXIoCiAgICAgICAgICAgICAgICBbNDMuNzEyODE1MDAwMDAwMDM1LCAtNzkuMzg4NTI1ODIxOTk5OTZdLAogICAgICAgICAgICAgICAgewogICJidWJibGluZ01vdXNlRXZlbnRzIjogdHJ1ZSwKICAiY29sb3IiOiAiYmx1ZSIsCiAgImRhc2hBcnJheSI6IG51bGwsCiAgImRhc2hPZmZzZXQiOiBudWxsLAogICJmaWxsIjogdHJ1ZSwKICAiZmlsbENvbG9yIjogIiMzMTg2Y2MiLAogICJmaWxsT3BhY2l0eSI6IDAuMiwKICAiZmlsbFJ1bGUiOiAiZXZlbm9kZCIsCiAgImxpbmVDYXAiOiAicm91bmQiLAogICJsaW5lSm9pbiI6ICJyb3VuZCIsCiAgIm9wYWNpdHkiOiAxLjAsCiAgInJhZGl1cyI6IDQsCiAgInN0cm9rZSI6IHRydWUsCiAgIndlaWdodCI6IDMKfQogICAgICAgICAgICAgICAgKQogICAgICAgICAgICAgICAgLmFkZFRvKG1hcF83NDExMmI1ZTczMjU0NDNmOTM5MGZlNDg1NWU2NDMxOSk7CiAgICAgICAgICAgIAogICAgCiAgICAgICAgICAgIHZhciBwb3B1cF8yNGMwZWQ0Mjc5MGI0MTIxODdhM2NjNDc1MDRmMThiMCA9IEwucG9wdXAoe21heFdpZHRoOiAnMTAwJScKICAgICAgICAgICAgCiAgICAgICAgICAgIH0pOwoKICAgICAgICAgICAgCiAgICAgICAgICAgICAgICB2YXIgaHRtbF85YTE1MDJmNTczOTM0YzU5OTEyYTFiYzdkOWNmYmU5ZSA9ICQoYDxkaXYgaWQ9Imh0bWxfOWExNTAyZjU3MzkzNGM1OTkxMmExYmM3ZDljZmJlOWUiIHN0eWxlPSJ3aWR0aDogMTAwLjAlOyBoZWlnaHQ6IDEwMC4wJTsiPkNlbnRyYWwgVG9yb250bywgRGF2aXN2aWxsZSBOb3J0aDwvZGl2PmApWzBdOwogICAgICAgICAgICAgICAgcG9wdXBfMjRjMGVkNDI3OTBiNDEyMTg3YTNjYzQ3NTA0ZjE4YjAuc2V0Q29udGVudChodG1sXzlhMTUwMmY1NzM5MzRjNTk5MTJhMWJjN2Q5Y2ZiZTllKTsKICAgICAgICAgICAgCgogICAgICAgICAgICBjaXJjbGVfbWFya2VyXzdkMmFmMDUxYTQ2MDQ3ZDk5ZmU2OTMwMDNkOTA2ZGZhLmJpbmRQb3B1cChwb3B1cF8yNGMwZWQ0Mjc5MGI0MTIxODdhM2NjNDc1MDRmMThiMCkKICAgICAgICAgICAgOwoKICAgICAgICAgICAgCiAgICAgICAgCiAgICAKICAgICAgICAgICAgdmFyIGNpcmNsZV9tYXJrZXJfNzgyYjFmMTNiOWNkNDUzOGFhMDFjOWE0ZTlmZTI3ZDkgPSBMLmNpcmNsZU1hcmtlcigKICAgICAgICAgICAgICAgIFs0My43MTQ1MjI3ODQwMDAwNSwgLTc5LjQwNjk1OTk5OTk5OTk3XSwKICAgICAgICAgICAgICAgIHsKICAiYnViYmxpbmdNb3VzZUV2ZW50cyI6IHRydWUsCiAgImNvbG9yIjogImJsdWUiLAogICJkYXNoQXJyYXkiOiBudWxsLAogICJkYXNoT2Zmc2V0IjogbnVsbCwKICAiZmlsbCI6IHRydWUsCiAgImZpbGxDb2xvciI6ICIjMzE4NmNjIiwKICAiZmlsbE9wYWNpdHkiOiAwLjIsCiAgImZpbGxSdWxlIjogImV2ZW5vZGQiLAogICJsaW5lQ2FwIjogInJvdW5kIiwKICAibGluZUpvaW4iOiAicm91bmQiLAogICJvcGFjaXR5IjogMS4wLAogICJyYWRpdXMiOiA0LAogICJzdHJva2UiOiB0cnVlLAogICJ3ZWlnaHQiOiAzCn0KICAgICAgICAgICAgICAgICkKICAgICAgICAgICAgICAgIC5hZGRUbyhtYXBfNzQxMTJiNWU3MzI1NDQzZjkzOTBmZTQ4NTVlNjQzMTkpOwogICAgICAgICAgICAKICAgIAogICAgICAgICAgICB2YXIgcG9wdXBfZTc5OGQwMGEwNjNjNDQwZmIyZWJkMjg2MmVhYWNmYmYgPSBMLnBvcHVwKHttYXhXaWR0aDogJzEwMCUnCiAgICAgICAgICAgIAogICAgICAgICAgICB9KTsKCiAgICAgICAgICAgIAogICAgICAgICAgICAgICAgdmFyIGh0bWxfZTc2ZWM5YTBlNTllNGNmOWJlMWQ0MzFmODIwMWFiZjggPSAkKGA8ZGl2IGlkPSJodG1sX2U3NmVjOWEwZTU5ZTRjZjliZTFkNDMxZjgyMDFhYmY4IiBzdHlsZT0id2lkdGg6IDEwMC4wJTsgaGVpZ2h0OiAxMDAuMCU7Ij5DZW50cmFsIFRvcm9udG8sIE5vcnRoIFRvcm9udG8gV2VzdDwvZGl2PmApWzBdOwogICAgICAgICAgICAgICAgcG9wdXBfZTc5OGQwMGEwNjNjNDQwZmIyZWJkMjg2MmVhYWNmYmYuc2V0Q29udGVudChodG1sX2U3NmVjOWEwZTU5ZTRjZjliZTFkNDMxZjgyMDFhYmY4KTsKICAgICAgICAgICAgCgogICAgICAgICAgICBjaXJjbGVfbWFya2VyXzc4MmIxZjEzYjljZDQ1MzhhYTAxYzlhNGU5ZmUyN2Q5LmJpbmRQb3B1cChwb3B1cF9lNzk4ZDAwYTA2M2M0NDBmYjJlYmQyODYyZWFhY2ZiZikKICAgICAgICAgICAgOwoKICAgICAgICAgICAgCiAgICAgICAgCiAgICAKICAgICAgICAgICAgdmFyIGNpcmNsZV9tYXJrZXJfZTBiZWE1YmQ2ZDhmNGFjMWI5NGE5Mzk5ZTBjNWZiMzQgPSBMLmNpcmNsZU1hcmtlcigKICAgICAgICAgICAgICAgIFs0My43MDMzOTUwMDAwMDAwNiwgLTc5LjM4NTk2MzYwNDk5OTk3XSwKICAgICAgICAgICAgICAgIHsKICAiYnViYmxpbmdNb3VzZUV2ZW50cyI6IHRydWUsCiAgImNvbG9yIjogImJsdWUiLAogICJkYXNoQXJyYXkiOiBudWxsLAogICJkYXNoT2Zmc2V0IjogbnVsbCwKICAiZmlsbCI6IHRydWUsCiAgImZpbGxDb2xvciI6ICIjMzE4NmNjIiwKICAiZmlsbE9wYWNpdHkiOiAwLjIsCiAgImZpbGxSdWxlIjogImV2ZW5vZGQiLAogICJsaW5lQ2FwIjogInJvdW5kIiwKICAibGluZUpvaW4iOiAicm91bmQiLAogICJvcGFjaXR5IjogMS4wLAogICJyYWRpdXMiOiA0LAogICJzdHJva2UiOiB0cnVlLAogICJ3ZWlnaHQiOiAzCn0KICAgICAgICAgICAgICAgICkKICAgICAgICAgICAgICAgIC5hZGRUbyhtYXBfNzQxMTJiNWU3MzI1NDQzZjkzOTBmZTQ4NTVlNjQzMTkpOwogICAgICAgICAgICAKICAgIAogICAgICAgICAgICB2YXIgcG9wdXBfMjM0YWIxYWY0NWM0NGI4NGJkM2Q3N2NmNGM3NTg2OWQgPSBMLnBvcHVwKHttYXhXaWR0aDogJzEwMCUnCiAgICAgICAgICAgIAogICAgICAgICAgICB9KTsKCiAgICAgICAgICAgIAogICAgICAgICAgICAgICAgdmFyIGh0bWxfMTY5ZDA0NTQ4YjY1NGEwN2FiNzcwZDQzNjQ2NjI0MTkgPSAkKGA8ZGl2IGlkPSJodG1sXzE2OWQwNDU0OGI2NTRhMDdhYjc3MGQ0MzY0NjYyNDE5IiBzdHlsZT0id2lkdGg6IDEwMC4wJTsgaGVpZ2h0OiAxMDAuMCU7Ij5DZW50cmFsIFRvcm9udG8sIERhdmlzdmlsbGU8L2Rpdj5gKVswXTsKICAgICAgICAgICAgICAgIHBvcHVwXzIzNGFiMWFmNDVjNDRiODRiZDNkNzdjZjRjNzU4NjlkLnNldENvbnRlbnQoaHRtbF8xNjlkMDQ1NDhiNjU0YTA3YWI3NzBkNDM2NDY2MjQxOSk7CiAgICAgICAgICAgIAoKICAgICAgICAgICAgY2lyY2xlX21hcmtlcl9lMGJlYTViZDZkOGY0YWMxYjk0YTkzOTllMGM1ZmIzNC5iaW5kUG9wdXAocG9wdXBfMjM0YWIxYWY0NWM0NGI4NGJkM2Q3N2NmNGM3NTg2OWQpCiAgICAgICAgICAgIDsKCiAgICAgICAgICAgIAogICAgICAgIAogICAgCiAgICAgICAgICAgIHZhciBjaXJjbGVfbWFya2VyX2JiZmZjMjYxNjJjZjRkMTk4ZDY2MzQ2NjM5MTdmYTU1ID0gTC5jaXJjbGVNYXJrZXIoCiAgICAgICAgICAgICAgICBbNDMuNjkwNjU1MDAwMDAwMDUsIC03OS4zODM1NjE0NTc5OTk5N10sCiAgICAgICAgICAgICAgICB7CiAgImJ1YmJsaW5nTW91c2VFdmVudHMiOiB0cnVlLAogICJjb2xvciI6ICJibHVlIiwKICAiZGFzaEFycmF5IjogbnVsbCwKICAiZGFzaE9mZnNldCI6IG51bGwsCiAgImZpbGwiOiB0cnVlLAogICJmaWxsQ29sb3IiOiAiIzMxODZjYyIsCiAgImZpbGxPcGFjaXR5IjogMC4yLAogICJmaWxsUnVsZSI6ICJldmVub2RkIiwKICAibGluZUNhcCI6ICJyb3VuZCIsCiAgImxpbmVKb2luIjogInJvdW5kIiwKICAib3BhY2l0eSI6IDEuMCwKICAicmFkaXVzIjogNCwKICAic3Ryb2tlIjogdHJ1ZSwKICAid2VpZ2h0IjogMwp9CiAgICAgICAgICAgICAgICApCiAgICAgICAgICAgICAgICAuYWRkVG8obWFwXzc0MTEyYjVlNzMyNTQ0M2Y5MzkwZmU0ODU1ZTY0MzE5KTsKICAgICAgICAgICAgCiAgICAKICAgICAgICAgICAgdmFyIHBvcHVwXzVhNmJkY2VmYTBmMDQ0YmE4OGNlZjAwZTU1ZGMxZTE5ID0gTC5wb3B1cCh7bWF4V2lkdGg6ICcxMDAlJwogICAgICAgICAgICAKICAgICAgICAgICAgfSk7CgogICAgICAgICAgICAKICAgICAgICAgICAgICAgIHZhciBodG1sX2NiN2ZjZjVhNWRiNzQwNGNhOTY1NTA4YmUzOWVhOTJlID0gJChgPGRpdiBpZD0iaHRtbF9jYjdmY2Y1YTVkYjc0MDRjYTk2NTUwOGJlMzllYTkyZSIgc3R5bGU9IndpZHRoOiAxMDAuMCU7IGhlaWdodDogMTAwLjAlOyI+Q2VudHJhbCBUb3JvbnRvLCBNb29yZSBQYXJrLFN1bW1lcmhpbGwgRWFzdDwvZGl2PmApWzBdOwogICAgICAgICAgICAgICAgcG9wdXBfNWE2YmRjZWZhMGYwNDRiYTg4Y2VmMDBlNTVkYzFlMTkuc2V0Q29udGVudChodG1sX2NiN2ZjZjVhNWRiNzQwNGNhOTY1NTA4YmUzOWVhOTJlKTsKICAgICAgICAgICAgCgogICAgICAgICAgICBjaXJjbGVfbWFya2VyX2JiZmZjMjYxNjJjZjRkMTk4ZDY2MzQ2NjM5MTdmYTU1LmJpbmRQb3B1cChwb3B1cF81YTZiZGNlZmEwZjA0NGJhODhjZWYwMGU1NWRjMWUxOSkKICAgICAgICAgICAgOwoKICAgICAgICAgICAgCiAgICAgICAgCiAgICAKICAgICAgICAgICAgdmFyIGNpcmNsZV9tYXJrZXJfNDA3NjZhZjQ4MTU0NGM5YThlMjUxYWY0YjcyYzVjZjQgPSBMLmNpcmNsZU1hcmtlcigKICAgICAgICAgICAgICAgIFs0My42ODYwODI4NTQwMDAwNiwgLTc5LjQwMjMzNDk5OTk5OTk0XSwKICAgICAgICAgICAgICAgIHsKICAiYnViYmxpbmdNb3VzZUV2ZW50cyI6IHRydWUsCiAgImNvbG9yIjogImJsdWUiLAogICJkYXNoQXJyYXkiOiBudWxsLAogICJkYXNoT2Zmc2V0IjogbnVsbCwKICAiZmlsbCI6IHRydWUsCiAgImZpbGxDb2xvciI6ICIjMzE4NmNjIiwKICAiZmlsbE9wYWNpdHkiOiAwLjIsCiAgImZpbGxSdWxlIjogImV2ZW5vZGQiLAogICJsaW5lQ2FwIjogInJvdW5kIiwKICAibGluZUpvaW4iOiAicm91bmQiLAogICJvcGFjaXR5IjogMS4wLAogICJyYWRpdXMiOiA0LAogICJzdHJva2UiOiB0cnVlLAogICJ3ZWlnaHQiOiAzCn0KICAgICAgICAgICAgICAgICkKICAgICAgICAgICAgICAgIC5hZGRUbyhtYXBfNzQxMTJiNWU3MzI1NDQzZjkzOTBmZTQ4NTVlNjQzMTkpOwogICAgICAgICAgICAKICAgIAogICAgICAgICAgICB2YXIgcG9wdXBfYzkxMDkzMDJkZTllNDQwNGIyOGQwMzBlMmY3YzM0NjEgPSBMLnBvcHVwKHttYXhXaWR0aDogJzEwMCUnCiAgICAgICAgICAgIAogICAgICAgICAgICB9KTsKCiAgICAgICAgICAgIAogICAgICAgICAgICAgICAgdmFyIGh0bWxfNjI4NmNhN2ZkOTBlNGI3NzgzZGVmYzk4MWRmYTQyYWYgPSAkKGA8ZGl2IGlkPSJodG1sXzYyODZjYTdmZDkwZTRiNzc4M2RlZmM5ODFkZmE0MmFmIiBzdHlsZT0id2lkdGg6IDEwMC4wJTsgaGVpZ2h0OiAxMDAuMCU7Ij5DZW50cmFsIFRvcm9udG8sIERlZXIgUGFyayxGb3Jlc3QgSGlsbCBTRSxSYXRobmVsbHksU291dGggSGlsbCxTdW1tZXJoaWxsIFdlc3Q8L2Rpdj5gKVswXTsKICAgICAgICAgICAgICAgIHBvcHVwX2M5MTA5MzAyZGU5ZTQ0MDRiMjhkMDMwZTJmN2MzNDYxLnNldENvbnRlbnQoaHRtbF82Mjg2Y2E3ZmQ5MGU0Yjc3ODNkZWZjOTgxZGZhNDJhZik7CiAgICAgICAgICAgIAoKICAgICAgICAgICAgY2lyY2xlX21hcmtlcl80MDc2NmFmNDgxNTQ0YzlhOGUyNTFhZjRiNzJjNWNmNC5iaW5kUG9wdXAocG9wdXBfYzkxMDkzMDJkZTllNDQwNGIyOGQwMzBlMmY3YzM0NjEpCiAgICAgICAgICAgIDsKCiAgICAgICAgICAgIAogICAgICAgIAogICAgCiAgICAgICAgICAgIHZhciBjaXJjbGVfbWFya2VyX2Y0ZmEzNWIyNDkwMDRiZDhiMWE3N2Y2OWI1ZTBjMzJhID0gTC5jaXJjbGVNYXJrZXIoCiAgICAgICAgICAgICAgICBbNDMuNjgxOTQwMDAwMDAwMDU0LCAtNzkuMzc4NDc0MTY2OTk5OThdLAogICAgICAgICAgICAgICAgewogICJidWJibGluZ01vdXNlRXZlbnRzIjogdHJ1ZSwKICAiY29sb3IiOiAiYmx1ZSIsCiAgImRhc2hBcnJheSI6IG51bGwsCiAgImRhc2hPZmZzZXQiOiBudWxsLAogICJmaWxsIjogdHJ1ZSwKICAiZmlsbENvbG9yIjogIiMzMTg2Y2MiLAogICJmaWxsT3BhY2l0eSI6IDAuMiwKICAiZmlsbFJ1bGUiOiAiZXZlbm9kZCIsCiAgImxpbmVDYXAiOiAicm91bmQiLAogICJsaW5lSm9pbiI6ICJyb3VuZCIsCiAgIm9wYWNpdHkiOiAxLjAsCiAgInJhZGl1cyI6IDQsCiAgInN0cm9rZSI6IHRydWUsCiAgIndlaWdodCI6IDMKfQogICAgICAgICAgICAgICAgKQogICAgICAgICAgICAgICAgLmFkZFRvKG1hcF83NDExMmI1ZTczMjU0NDNmOTM5MGZlNDg1NWU2NDMxOSk7CiAgICAgICAgICAgIAogICAgCiAgICAgICAgICAgIHZhciBwb3B1cF83Y2IzZmU2OWE1MDk0NzRmYjllZjEzZWZhOGIyNWVlNiA9IEwucG9wdXAoe21heFdpZHRoOiAnMTAwJScKICAgICAgICAgICAgCiAgICAgICAgICAgIH0pOwoKICAgICAgICAgICAgCiAgICAgICAgICAgICAgICB2YXIgaHRtbF9hNDQ3NmQ3NzM2ZDU0YmExOThkOGFkMmUxZWFlNDE4ZiA9ICQoYDxkaXYgaWQ9Imh0bWxfYTQ0NzZkNzczNmQ1NGJhMTk4ZDhhZDJlMWVhZTQxOGYiIHN0eWxlPSJ3aWR0aDogMTAwLjAlOyBoZWlnaHQ6IDEwMC4wJTsiPkRvd250b3duIFRvcm9udG8sIFJvc2VkYWxlPC9kaXY+YClbMF07CiAgICAgICAgICAgICAgICBwb3B1cF83Y2IzZmU2OWE1MDk0NzRmYjllZjEzZWZhOGIyNWVlNi5zZXRDb250ZW50KGh0bWxfYTQ0NzZkNzczNmQ1NGJhMTk4ZDhhZDJlMWVhZTQxOGYpOwogICAgICAgICAgICAKCiAgICAgICAgICAgIGNpcmNsZV9tYXJrZXJfZjRmYTM1YjI0OTAwNGJkOGIxYTc3ZjY5YjVlMGMzMmEuYmluZFBvcHVwKHBvcHVwXzdjYjNmZTY5YTUwOTQ3NGZiOWVmMTNlZmE4YjI1ZWU2KQogICAgICAgICAgICA7CgogICAgICAgICAgICAKICAgICAgICAKICAgIAogICAgICAgICAgICB2YXIgY2lyY2xlX21hcmtlcl8yOTM3NTNjOWVkOTQ0MzA2OGQxZGQ0NjE5MmNiNTYxZiA9IEwuY2lyY2xlTWFya2VyKAogICAgICAgICAgICAgICAgWzQzLjY2ODE2MDAwMDAwMDA2LCAtNzkuMzY2NjAyMzYxOTk5OThdLAogICAgICAgICAgICAgICAgewogICJidWJibGluZ01vdXNlRXZlbnRzIjogdHJ1ZSwKICAiY29sb3IiOiAiYmx1ZSIsCiAgImRhc2hBcnJheSI6IG51bGwsCiAgImRhc2hPZmZzZXQiOiBudWxsLAogICJmaWxsIjogdHJ1ZSwKICAiZmlsbENvbG9yIjogIiMzMTg2Y2MiLAogICJmaWxsT3BhY2l0eSI6IDAuMiwKICAiZmlsbFJ1bGUiOiAiZXZlbm9kZCIsCiAgImxpbmVDYXAiOiAicm91bmQiLAogICJsaW5lSm9pbiI6ICJyb3VuZCIsCiAgIm9wYWNpdHkiOiAxLjAsCiAgInJhZGl1cyI6IDQsCiAgInN0cm9rZSI6IHRydWUsCiAgIndlaWdodCI6IDMKfQogICAgICAgICAgICAgICAgKQogICAgICAgICAgICAgICAgLmFkZFRvKG1hcF83NDExMmI1ZTczMjU0NDNmOTM5MGZlNDg1NWU2NDMxOSk7CiAgICAgICAgICAgIAogICAgCiAgICAgICAgICAgIHZhciBwb3B1cF9mZTY4MGJiZjE0MmQ0NWRjOWIyY2JjN2I1MzBiMDg4NCA9IEwucG9wdXAoe21heFdpZHRoOiAnMTAwJScKICAgICAgICAgICAgCiAgICAgICAgICAgIH0pOwoKICAgICAgICAgICAgCiAgICAgICAgICAgICAgICB2YXIgaHRtbF82YmQ1NDliZWYyYWM0OTEzYjY5NTFkZjlmNDE5MTVhNSA9ICQoYDxkaXYgaWQ9Imh0bWxfNmJkNTQ5YmVmMmFjNDkxM2I2OTUxZGY5ZjQxOTE1YTUiIHN0eWxlPSJ3aWR0aDogMTAwLjAlOyBoZWlnaHQ6IDEwMC4wJTsiPkRvd250b3duIFRvcm9udG8sIENhYmJhZ2V0b3duLFN0LiBKYW1lcyBUb3duPC9kaXY+YClbMF07CiAgICAgICAgICAgICAgICBwb3B1cF9mZTY4MGJiZjE0MmQ0NWRjOWIyY2JjN2I1MzBiMDg4NC5zZXRDb250ZW50KGh0bWxfNmJkNTQ5YmVmMmFjNDkxM2I2OTUxZGY5ZjQxOTE1YTUpOwogICAgICAgICAgICAKCiAgICAgICAgICAgIGNpcmNsZV9tYXJrZXJfMjkzNzUzYzllZDk0NDMwNjhkMWRkNDYxOTJjYjU2MWYuYmluZFBvcHVwKHBvcHVwX2ZlNjgwYmJmMTQyZDQ1ZGM5YjJjYmM3YjUzMGIwODg0KQogICAgICAgICAgICA7CgogICAgICAgICAgICAKICAgICAgICAKICAgIAogICAgICAgICAgICB2YXIgY2lyY2xlX21hcmtlcl8xNDIyZjRiODdlOTA0MTFiYTM5MTU1MTJhNzA0N2Y1OSA9IEwuY2lyY2xlTWFya2VyKAogICAgICAgICAgICAgICAgWzQzLjY2NjU4NTAwMDAwMDA1NSwgLTc5LjM4MTMwMjAzNjk5OTk1XSwKICAgICAgICAgICAgICAgIHsKICAiYnViYmxpbmdNb3VzZUV2ZW50cyI6IHRydWUsCiAgImNvbG9yIjogImJsdWUiLAogICJkYXNoQXJyYXkiOiBudWxsLAogICJkYXNoT2Zmc2V0IjogbnVsbCwKICAiZmlsbCI6IHRydWUsCiAgImZpbGxDb2xvciI6ICIjMzE4NmNjIiwKICAiZmlsbE9wYWNpdHkiOiAwLjIsCiAgImZpbGxSdWxlIjogImV2ZW5vZGQiLAogICJsaW5lQ2FwIjogInJvdW5kIiwKICAibGluZUpvaW4iOiAicm91bmQiLAogICJvcGFjaXR5IjogMS4wLAogICJyYWRpdXMiOiA0LAogICJzdHJva2UiOiB0cnVlLAogICJ3ZWlnaHQiOiAzCn0KICAgICAgICAgICAgICAgICkKICAgICAgICAgICAgICAgIC5hZGRUbyhtYXBfNzQxMTJiNWU3MzI1NDQzZjkzOTBmZTQ4NTVlNjQzMTkpOwogICAgICAgICAgICAKICAgIAogICAgICAgICAgICB2YXIgcG9wdXBfN2M5NzRmMjYwMGUxNDM4ZjljMjQwNDJiMWYyYzQzNDYgPSBMLnBvcHVwKHttYXhXaWR0aDogJzEwMCUnCiAgICAgICAgICAgIAogICAgICAgICAgICB9KTsKCiAgICAgICAgICAgIAogICAgICAgICAgICAgICAgdmFyIGh0bWxfOTA4YjdkMGEzZTRhNDkyNzlkNTI0MWZlZWI0YWRlOWIgPSAkKGA8ZGl2IGlkPSJodG1sXzkwOGI3ZDBhM2U0YTQ5Mjc5ZDUyNDFmZWViNGFkZTliIiBzdHlsZT0id2lkdGg6IDEwMC4wJTsgaGVpZ2h0OiAxMDAuMCU7Ij5Eb3dudG93biBUb3JvbnRvLCBDaHVyY2ggYW5kIFdlbGxlc2xleTwvZGl2PmApWzBdOwogICAgICAgICAgICAgICAgcG9wdXBfN2M5NzRmMjYwMGUxNDM4ZjljMjQwNDJiMWYyYzQzNDYuc2V0Q29udGVudChodG1sXzkwOGI3ZDBhM2U0YTQ5Mjc5ZDUyNDFmZWViNGFkZTliKTsKICAgICAgICAgICAgCgogICAgICAgICAgICBjaXJjbGVfbWFya2VyXzE0MjJmNGI4N2U5MDQxMWJhMzkxNTUxMmE3MDQ3ZjU5LmJpbmRQb3B1cChwb3B1cF83Yzk3NGYyNjAwZTE0MzhmOWMyNDA0MmIxZjJjNDM0NikKICAgICAgICAgICAgOwoKICAgICAgICAgICAgCiAgICAgICAgCiAgICAKICAgICAgICAgICAgdmFyIGNpcmNsZV9tYXJrZXJfNDNhYTQ3NGYzMWEzNGZiZjk4YWEyMjZjNjQ2Y2RhNmIgPSBMLmNpcmNsZU1hcmtlcigKICAgICAgICAgICAgICAgIFs0My42NTUxMjAwMDAwMDAwNywgLTc5LjM2MjYzOTc5Njk5OTk5XSwKICAgICAgICAgICAgICAgIHsKICAiYnViYmxpbmdNb3VzZUV2ZW50cyI6IHRydWUsCiAgImNvbG9yIjogImJsdWUiLAogICJkYXNoQXJyYXkiOiBudWxsLAogICJkYXNoT2Zmc2V0IjogbnVsbCwKICAiZmlsbCI6IHRydWUsCiAgImZpbGxDb2xvciI6ICIjMzE4NmNjIiwKICAiZmlsbE9wYWNpdHkiOiAwLjIsCiAgImZpbGxSdWxlIjogImV2ZW5vZGQiLAogICJsaW5lQ2FwIjogInJvdW5kIiwKICAibGluZUpvaW4iOiAicm91bmQiLAogICJvcGFjaXR5IjogMS4wLAogICJyYWRpdXMiOiA0LAogICJzdHJva2UiOiB0cnVlLAogICJ3ZWlnaHQiOiAzCn0KICAgICAgICAgICAgICAgICkKICAgICAgICAgICAgICAgIC5hZGRUbyhtYXBfNzQxMTJiNWU3MzI1NDQzZjkzOTBmZTQ4NTVlNjQzMTkpOwogICAgICAgICAgICAKICAgIAogICAgICAgICAgICB2YXIgcG9wdXBfNGM4ZjVjZGMyN2YwNGFkN2I4NGM5ZTY1NzFiN2U3N2UgPSBMLnBvcHVwKHttYXhXaWR0aDogJzEwMCUnCiAgICAgICAgICAgIAogICAgICAgICAgICB9KTsKCiAgICAgICAgICAgIAogICAgICAgICAgICAgICAgdmFyIGh0bWxfOGYyMmI5ZTJkYTU4NDJmZjk1Njg4YmUwMWRlYTdhYmIgPSAkKGA8ZGl2IGlkPSJodG1sXzhmMjJiOWUyZGE1ODQyZmY5NTY4OGJlMDFkZWE3YWJiIiBzdHlsZT0id2lkdGg6IDEwMC4wJTsgaGVpZ2h0OiAxMDAuMCU7Ij5Eb3dudG93biBUb3JvbnRvLCBIYXJib3VyZnJvbnQsUmVnZW50IFBhcms8L2Rpdj5gKVswXTsKICAgICAgICAgICAgICAgIHBvcHVwXzRjOGY1Y2RjMjdmMDRhZDdiODRjOWU2NTcxYjdlNzdlLnNldENvbnRlbnQoaHRtbF84ZjIyYjllMmRhNTg0MmZmOTU2ODhiZTAxZGVhN2FiYik7CiAgICAgICAgICAgIAoKICAgICAgICAgICAgY2lyY2xlX21hcmtlcl80M2FhNDc0ZjMxYTM0ZmJmOThhYTIyNmM2NDZjZGE2Yi5iaW5kUG9wdXAocG9wdXBfNGM4ZjVjZGMyN2YwNGFkN2I4NGM5ZTY1NzFiN2U3N2UpCiAgICAgICAgICAgIDsKCiAgICAgICAgICAgIAogICAgICAgIAogICAgCiAgICAgICAgICAgIHZhciBjaXJjbGVfbWFya2VyXzhkZTRjMzIwNjAyYzRlNGViMTliZDY3NjQ0NGVhODkwID0gTC5jaXJjbGVNYXJrZXIoCiAgICAgICAgICAgICAgICBbNDMuNjU3MzYzMDExMDAwMDMsIC03OS4zNzgxNzk5OTk5OTk5OV0sCiAgICAgICAgICAgICAgICB7CiAgImJ1YmJsaW5nTW91c2VFdmVudHMiOiB0cnVlLAogICJjb2xvciI6ICJibHVlIiwKICAiZGFzaEFycmF5IjogbnVsbCwKICAiZGFzaE9mZnNldCI6IG51bGwsCiAgImZpbGwiOiB0cnVlLAogICJmaWxsQ29sb3IiOiAiIzMxODZjYyIsCiAgImZpbGxPcGFjaXR5IjogMC4yLAogICJmaWxsUnVsZSI6ICJldmVub2RkIiwKICAibGluZUNhcCI6ICJyb3VuZCIsCiAgImxpbmVKb2luIjogInJvdW5kIiwKICAib3BhY2l0eSI6IDEuMCwKICAicmFkaXVzIjogNCwKICAic3Ryb2tlIjogdHJ1ZSwKICAid2VpZ2h0IjogMwp9CiAgICAgICAgICAgICAgICApCiAgICAgICAgICAgICAgICAuYWRkVG8obWFwXzc0MTEyYjVlNzMyNTQ0M2Y5MzkwZmU0ODU1ZTY0MzE5KTsKICAgICAgICAgICAgCiAgICAKICAgICAgICAgICAgdmFyIHBvcHVwXzU0YmFlMTMyM2Y0ZjQ5M2I4MzdlYWExNjE1YzQyMDk4ID0gTC5wb3B1cCh7bWF4V2lkdGg6ICcxMDAlJwogICAgICAgICAgICAKICAgICAgICAgICAgfSk7CgogICAgICAgICAgICAKICAgICAgICAgICAgICAgIHZhciBodG1sXzRlMTkwODVjZGVkODQ1MWRiNTExYTkzYmYzMzYwOTM5ID0gJChgPGRpdiBpZD0iaHRtbF80ZTE5MDg1Y2RlZDg0NTFkYjUxMWE5M2JmMzM2MDkzOSIgc3R5bGU9IndpZHRoOiAxMDAuMCU7IGhlaWdodDogMTAwLjAlOyI+RG93bnRvd24gVG9yb250bywgUnllcnNvbixHYXJkZW4gRGlzdHJpY3Q8L2Rpdj5gKVswXTsKICAgICAgICAgICAgICAgIHBvcHVwXzU0YmFlMTMyM2Y0ZjQ5M2I4MzdlYWExNjE1YzQyMDk4LnNldENvbnRlbnQoaHRtbF80ZTE5MDg1Y2RlZDg0NTFkYjUxMWE5M2JmMzM2MDkzOSk7CiAgICAgICAgICAgIAoKICAgICAgICAgICAgY2lyY2xlX21hcmtlcl84ZGU0YzMyMDYwMmM0ZTRlYjE5YmQ2NzY0NDRlYTg5MC5iaW5kUG9wdXAocG9wdXBfNTRiYWUxMzIzZjRmNDkzYjgzN2VhYTE2MTVjNDIwOTgpCiAgICAgICAgICAgIDsKCiAgICAgICAgICAgIAogICAgICAgIAogICAgCiAgICAgICAgICAgIHZhciBjaXJjbGVfbWFya2VyX2E2NWMxYTcxOGRiMzQ5NzdhNTY1Y2FjNjZlOGFkZWMyID0gTC5jaXJjbGVNYXJrZXIoCiAgICAgICAgICAgICAgICBbNDMuNjUxMjEwMDAwMDAwMDUsIC03OS4zNzU0ODA1NzY5OTk5Nl0sCiAgICAgICAgICAgICAgICB7CiAgImJ1YmJsaW5nTW91c2VFdmVudHMiOiB0cnVlLAogICJjb2xvciI6ICJibHVlIiwKICAiZGFzaEFycmF5IjogbnVsbCwKICAiZGFzaE9mZnNldCI6IG51bGwsCiAgImZpbGwiOiB0cnVlLAogICJmaWxsQ29sb3IiOiAiIzMxODZjYyIsCiAgImZpbGxPcGFjaXR5IjogMC4yLAogICJmaWxsUnVsZSI6ICJldmVub2RkIiwKICAibGluZUNhcCI6ICJyb3VuZCIsCiAgImxpbmVKb2luIjogInJvdW5kIiwKICAib3BhY2l0eSI6IDEuMCwKICAicmFkaXVzIjogNCwKICAic3Ryb2tlIjogdHJ1ZSwKICAid2VpZ2h0IjogMwp9CiAgICAgICAgICAgICAgICApCiAgICAgICAgICAgICAgICAuYWRkVG8obWFwXzc0MTEyYjVlNzMyNTQ0M2Y5MzkwZmU0ODU1ZTY0MzE5KTsKICAgICAgICAgICAgCiAgICAKICAgICAgICAgICAgdmFyIHBvcHVwXzdlNjUyZWE4ODZlMjQ3ZThhMTRlZmU2YjhkOTBjMGU1ID0gTC5wb3B1cCh7bWF4V2lkdGg6ICcxMDAlJwogICAgICAgICAgICAKICAgICAgICAgICAgfSk7CgogICAgICAgICAgICAKICAgICAgICAgICAgICAgIHZhciBodG1sXzY0YjM3NDMwODZjYTQ0ZmViZGU0NTY3Njk4NmQ5Y2M0ID0gJChgPGRpdiBpZD0iaHRtbF82NGIzNzQzMDg2Y2E0NGZlYmRlNDU2NzY5ODZkOWNjNCIgc3R5bGU9IndpZHRoOiAxMDAuMCU7IGhlaWdodDogMTAwLjAlOyI+RG93bnRvd24gVG9yb250bywgU3QuIEphbWVzIFRvd248L2Rpdj5gKVswXTsKICAgICAgICAgICAgICAgIHBvcHVwXzdlNjUyZWE4ODZlMjQ3ZThhMTRlZmU2YjhkOTBjMGU1LnNldENvbnRlbnQoaHRtbF82NGIzNzQzMDg2Y2E0NGZlYmRlNDU2NzY5ODZkOWNjNCk7CiAgICAgICAgICAgIAoKICAgICAgICAgICAgY2lyY2xlX21hcmtlcl9hNjVjMWE3MThkYjM0OTc3YTU2NWNhYzY2ZThhZGVjMi5iaW5kUG9wdXAocG9wdXBfN2U2NTJlYTg4NmUyNDdlOGExNGVmZTZiOGQ5MGMwZTUpCiAgICAgICAgICAgIDsKCiAgICAgICAgICAgIAogICAgICAgIAogICAgCiAgICAgICAgICAgIHZhciBjaXJjbGVfbWFya2VyXzkxNmNjYTExMzgwYjQ3ZGE4NDQ0ZTAxODAzZDRlN2E5ID0gTC5jaXJjbGVNYXJrZXIoCiAgICAgICAgICAgICAgICBbNDMuNjQ1MTYwMTU2MDAwMDMsIC03OS4zNzM2NzQ5OTk5OTk5M10sCiAgICAgICAgICAgICAgICB7CiAgImJ1YmJsaW5nTW91c2VFdmVudHMiOiB0cnVlLAogICJjb2xvciI6ICJibHVlIiwKICAiZGFzaEFycmF5IjogbnVsbCwKICAiZGFzaE9mZnNldCI6IG51bGwsCiAgImZpbGwiOiB0cnVlLAogICJmaWxsQ29sb3IiOiAiIzMxODZjYyIsCiAgImZpbGxPcGFjaXR5IjogMC4yLAogICJmaWxsUnVsZSI6ICJldmVub2RkIiwKICAibGluZUNhcCI6ICJyb3VuZCIsCiAgImxpbmVKb2luIjogInJvdW5kIiwKICAib3BhY2l0eSI6IDEuMCwKICAicmFkaXVzIjogNCwKICAic3Ryb2tlIjogdHJ1ZSwKICAid2VpZ2h0IjogMwp9CiAgICAgICAgICAgICAgICApCiAgICAgICAgICAgICAgICAuYWRkVG8obWFwXzc0MTEyYjVlNzMyNTQ0M2Y5MzkwZmU0ODU1ZTY0MzE5KTsKICAgICAgICAgICAgCiAgICAKICAgICAgICAgICAgdmFyIHBvcHVwXzZiN2ZhY2U2OWQyODRkYzA4NzEwYTI1ZDYxMWY4ZmZjID0gTC5wb3B1cCh7bWF4V2lkdGg6ICcxMDAlJwogICAgICAgICAgICAKICAgICAgICAgICAgfSk7CgogICAgICAgICAgICAKICAgICAgICAgICAgICAgIHZhciBodG1sXzlmZWY3MjQxM2E4ZTQzZmM5NGUzNTRjMzViNTJhMjBlID0gJChgPGRpdiBpZD0iaHRtbF85ZmVmNzI0MTNhOGU0M2ZjOTRlMzU0YzM1YjUyYTIwZSIgc3R5bGU9IndpZHRoOiAxMDAuMCU7IGhlaWdodDogMTAwLjAlOyI+RG93bnRvd24gVG9yb250bywgQmVyY3p5IFBhcms8L2Rpdj5gKVswXTsKICAgICAgICAgICAgICAgIHBvcHVwXzZiN2ZhY2U2OWQyODRkYzA4NzEwYTI1ZDYxMWY4ZmZjLnNldENvbnRlbnQoaHRtbF85ZmVmNzI0MTNhOGU0M2ZjOTRlMzU0YzM1YjUyYTIwZSk7CiAgICAgICAgICAgIAoKICAgICAgICAgICAgY2lyY2xlX21hcmtlcl85MTZjY2ExMTM4MGI0N2RhODQ0NGUwMTgwM2Q0ZTdhOS5iaW5kUG9wdXAocG9wdXBfNmI3ZmFjZTY5ZDI4NGRjMDg3MTBhMjVkNjExZjhmZmMpCiAgICAgICAgICAgIDsKCiAgICAgICAgICAgIAogICAgICAgIAogICAgCiAgICAgICAgICAgIHZhciBjaXJjbGVfbWFya2VyXzUxYjYwYTZiMGE0ZjRhMjI4NTI0NDk0ZWJiYzJjZWE0ID0gTC5jaXJjbGVNYXJrZXIoCiAgICAgICAgICAgICAgICBbNDMuNjU2MDkwODEzMDAwMDUsIC03OS4zODQ5Mjk5OTk5OTk5NF0sCiAgICAgICAgICAgICAgICB7CiAgImJ1YmJsaW5nTW91c2VFdmVudHMiOiB0cnVlLAogICJjb2xvciI6ICJibHVlIiwKICAiZGFzaEFycmF5IjogbnVsbCwKICAiZGFzaE9mZnNldCI6IG51bGwsCiAgImZpbGwiOiB0cnVlLAogICJmaWxsQ29sb3IiOiAiIzMxODZjYyIsCiAgImZpbGxPcGFjaXR5IjogMC4yLAogICJmaWxsUnVsZSI6ICJldmVub2RkIiwKICAibGluZUNhcCI6ICJyb3VuZCIsCiAgImxpbmVKb2luIjogInJvdW5kIiwKICAib3BhY2l0eSI6IDEuMCwKICAicmFkaXVzIjogNCwKICAic3Ryb2tlIjogdHJ1ZSwKICAid2VpZ2h0IjogMwp9CiAgICAgICAgICAgICAgICApCiAgICAgICAgICAgICAgICAuYWRkVG8obWFwXzc0MTEyYjVlNzMyNTQ0M2Y5MzkwZmU0ODU1ZTY0MzE5KTsKICAgICAgICAgICAgCiAgICAKICAgICAgICAgICAgdmFyIHBvcHVwX2ZmZWVjNzJiOTc4ODRkZWRiZDY4MzczZGE4MGE5YmUwID0gTC5wb3B1cCh7bWF4V2lkdGg6ICcxMDAlJwogICAgICAgICAgICAKICAgICAgICAgICAgfSk7CgogICAgICAgICAgICAKICAgICAgICAgICAgICAgIHZhciBodG1sX2Q0ZjUwOWQ3NzMyNjQyMGQ4N2Y0M2EzOGI5NzE4ZTZiID0gJChgPGRpdiBpZD0iaHRtbF9kNGY1MDlkNzczMjY0MjBkODdmNDNhMzhiOTcxOGU2YiIgc3R5bGU9IndpZHRoOiAxMDAuMCU7IGhlaWdodDogMTAwLjAlOyI+RG93bnRvd24gVG9yb250bywgQ2VudHJhbCBCYXkgU3RyZWV0PC9kaXY+YClbMF07CiAgICAgICAgICAgICAgICBwb3B1cF9mZmVlYzcyYjk3ODg0ZGVkYmQ2ODM3M2RhODBhOWJlMC5zZXRDb250ZW50KGh0bWxfZDRmNTA5ZDc3MzI2NDIwZDg3ZjQzYTM4Yjk3MThlNmIpOwogICAgICAgICAgICAKCiAgICAgICAgICAgIGNpcmNsZV9tYXJrZXJfNTFiNjBhNmIwYTRmNGEyMjg1MjQ0OTRlYmJjMmNlYTQuYmluZFBvcHVwKHBvcHVwX2ZmZWVjNzJiOTc4ODRkZWRiZDY4MzczZGE4MGE5YmUwKQogICAgICAgICAgICA7CgogICAgICAgICAgICAKICAgICAgICAKICAgIAogICAgICAgICAgICB2YXIgY2lyY2xlX21hcmtlcl85Y2VmYjgzZjRmOTk0YTk2YTEzNGZlNmI4NDZhZWI3NiA9IEwuY2lyY2xlTWFya2VyKAogICAgICAgICAgICAgICAgWzQzLjY0OTUxNTAwMDAwMDA2NSwgLTc5LjM4MjUwMzQ0Njk5OTk4XSwKICAgICAgICAgICAgICAgIHsKICAiYnViYmxpbmdNb3VzZUV2ZW50cyI6IHRydWUsCiAgImNvbG9yIjogImJsdWUiLAogICJkYXNoQXJyYXkiOiBudWxsLAogICJkYXNoT2Zmc2V0IjogbnVsbCwKICAiZmlsbCI6IHRydWUsCiAgImZpbGxDb2xvciI6ICIjMzE4NmNjIiwKICAiZmlsbE9wYWNpdHkiOiAwLjIsCiAgImZpbGxSdWxlIjogImV2ZW5vZGQiLAogICJsaW5lQ2FwIjogInJvdW5kIiwKICAibGluZUpvaW4iOiAicm91bmQiLAogICJvcGFjaXR5IjogMS4wLAogICJyYWRpdXMiOiA0LAogICJzdHJva2UiOiB0cnVlLAogICJ3ZWlnaHQiOiAzCn0KICAgICAgICAgICAgICAgICkKICAgICAgICAgICAgICAgIC5hZGRUbyhtYXBfNzQxMTJiNWU3MzI1NDQzZjkzOTBmZTQ4NTVlNjQzMTkpOwogICAgICAgICAgICAKICAgIAogICAgICAgICAgICB2YXIgcG9wdXBfNWIxNWRjM2RkOGE1NDE1MmE2NjRmZmJjOTU0OGU1ZWQgPSBMLnBvcHVwKHttYXhXaWR0aDogJzEwMCUnCiAgICAgICAgICAgIAogICAgICAgICAgICB9KTsKCiAgICAgICAgICAgIAogICAgICAgICAgICAgICAgdmFyIGh0bWxfOTk3NTM3NDdiNjRiNDFmOGJiZTNiOWY3ZjZkMzNlY2QgPSAkKGA8ZGl2IGlkPSJodG1sXzk5NzUzNzQ3YjY0YjQxZjhiYmUzYjlmN2Y2ZDMzZWNkIiBzdHlsZT0id2lkdGg6IDEwMC4wJTsgaGVpZ2h0OiAxMDAuMCU7Ij5Eb3dudG93biBUb3JvbnRvLCBBZGVsYWlkZSxLaW5nLFJpY2htb25kPC9kaXY+YClbMF07CiAgICAgICAgICAgICAgICBwb3B1cF81YjE1ZGMzZGQ4YTU0MTUyYTY2NGZmYmM5NTQ4ZTVlZC5zZXRDb250ZW50KGh0bWxfOTk3NTM3NDdiNjRiNDFmOGJiZTNiOWY3ZjZkMzNlY2QpOwogICAgICAgICAgICAKCiAgICAgICAgICAgIGNpcmNsZV9tYXJrZXJfOWNlZmI4M2Y0Zjk5NGE5NmExMzRmZTZiODQ2YWViNzYuYmluZFBvcHVwKHBvcHVwXzViMTVkYzNkZDhhNTQxNTJhNjY0ZmZiYzk1NDhlNWVkKQogICAgICAgICAgICA7CgogICAgICAgICAgICAKICAgICAgICAKICAgIAogICAgICAgICAgICB2YXIgY2lyY2xlX21hcmtlcl9kNWYwNzYyYzllNjY0MjQ4YTI1MTc0NjA2Y2FmMzJiOCA9IEwuY2lyY2xlTWFya2VyKAogICAgICAgICAgICAgICAgWzQzLjYyMzQ3MDAwMDAwMDA1NCwgLTc5LjM5MTUwNzM2Mzk5OTk1XSwKICAgICAgICAgICAgICAgIHsKICAiYnViYmxpbmdNb3VzZUV2ZW50cyI6IHRydWUsCiAgImNvbG9yIjogImJsdWUiLAogICJkYXNoQXJyYXkiOiBudWxsLAogICJkYXNoT2Zmc2V0IjogbnVsbCwKICAiZmlsbCI6IHRydWUsCiAgImZpbGxDb2xvciI6ICIjMzE4NmNjIiwKICAiZmlsbE9wYWNpdHkiOiAwLjIsCiAgImZpbGxSdWxlIjogImV2ZW5vZGQiLAogICJsaW5lQ2FwIjogInJvdW5kIiwKICAibGluZUpvaW4iOiAicm91bmQiLAogICJvcGFjaXR5IjogMS4wLAogICJyYWRpdXMiOiA0LAogICJzdHJva2UiOiB0cnVlLAogICJ3ZWlnaHQiOiAzCn0KICAgICAgICAgICAgICAgICkKICAgICAgICAgICAgICAgIC5hZGRUbyhtYXBfNzQxMTJiNWU3MzI1NDQzZjkzOTBmZTQ4NTVlNjQzMTkpOwogICAgICAgICAgICAKICAgIAogICAgICAgICAgICB2YXIgcG9wdXBfMDcxMTUwODg3MTkyNDc4YWE5NTg2MzRjNmM3M2Y5MWQgPSBMLnBvcHVwKHttYXhXaWR0aDogJzEwMCUnCiAgICAgICAgICAgIAogICAgICAgICAgICB9KTsKCiAgICAgICAgICAgIAogICAgICAgICAgICAgICAgdmFyIGh0bWxfMDVmNTRhM2MwNTRlNDczNjg0NTFhYTRjMmU3N2M2YzQgPSAkKGA8ZGl2IGlkPSJodG1sXzA1ZjU0YTNjMDU0ZTQ3MzY4NDUxYWE0YzJlNzdjNmM0IiBzdHlsZT0id2lkdGg6IDEwMC4wJTsgaGVpZ2h0OiAxMDAuMCU7Ij5Eb3dudG93biBUb3JvbnRvLCBIYXJib3VyZnJvbnQgRWFzdCxUb3JvbnRvIElzbGFuZHMsVW5pb24gU3RhdGlvbjwvZGl2PmApWzBdOwogICAgICAgICAgICAgICAgcG9wdXBfMDcxMTUwODg3MTkyNDc4YWE5NTg2MzRjNmM3M2Y5MWQuc2V0Q29udGVudChodG1sXzA1ZjU0YTNjMDU0ZTQ3MzY4NDUxYWE0YzJlNzdjNmM0KTsKICAgICAgICAgICAgCgogICAgICAgICAgICBjaXJjbGVfbWFya2VyX2Q1ZjA3NjJjOWU2NjQyNDhhMjUxNzQ2MDZjYWYzMmI4LmJpbmRQb3B1cChwb3B1cF8wNzExNTA4ODcxOTI0NzhhYTk1ODYzNGM2YzczZjkxZCkKICAgICAgICAgICAgOwoKICAgICAgICAgICAgCiAgICAgICAgCiAgICAKICAgICAgICAgICAgdmFyIGNpcmNsZV9tYXJrZXJfYmQwOGFjMTRlN2ZkNDY3NGE4ZDZjNDE2OTk0NTg4OTIgPSBMLmNpcmNsZU1hcmtlcigKICAgICAgICAgICAgICAgIFs0My42NDcxMDAwMDAwMDAwOCwgLTc5LjM4MTUzMTA5ODk5OTk3XSwKICAgICAgICAgICAgICAgIHsKICAiYnViYmxpbmdNb3VzZUV2ZW50cyI6IHRydWUsCiAgImNvbG9yIjogImJsdWUiLAogICJkYXNoQXJyYXkiOiBudWxsLAogICJkYXNoT2Zmc2V0IjogbnVsbCwKICAiZmlsbCI6IHRydWUsCiAgImZpbGxDb2xvciI6ICIjMzE4NmNjIiwKICAiZmlsbE9wYWNpdHkiOiAwLjIsCiAgImZpbGxSdWxlIjogImV2ZW5vZGQiLAogICJsaW5lQ2FwIjogInJvdW5kIiwKICAibGluZUpvaW4iOiAicm91bmQiLAogICJvcGFjaXR5IjogMS4wLAogICJyYWRpdXMiOiA0LAogICJzdHJva2UiOiB0cnVlLAogICJ3ZWlnaHQiOiAzCn0KICAgICAgICAgICAgICAgICkKICAgICAgICAgICAgICAgIC5hZGRUbyhtYXBfNzQxMTJiNWU3MzI1NDQzZjkzOTBmZTQ4NTVlNjQzMTkpOwogICAgICAgICAgICAKICAgIAogICAgICAgICAgICB2YXIgcG9wdXBfNzI3ZDUxOTM4MmEzNDIyNmIxYmUxMzczNWExMjY2NWQgPSBMLnBvcHVwKHttYXhXaWR0aDogJzEwMCUnCiAgICAgICAgICAgIAogICAgICAgICAgICB9KTsKCiAgICAgICAgICAgIAogICAgICAgICAgICAgICAgdmFyIGh0bWxfYTljNDkxMDZhNjIzNGFjMThjMjEzN2JmODE5MTk2NTYgPSAkKGA8ZGl2IGlkPSJodG1sX2E5YzQ5MTA2YTYyMzRhYzE4YzIxMzdiZjgxOTE5NjU2IiBzdHlsZT0id2lkdGg6IDEwMC4wJTsgaGVpZ2h0OiAxMDAuMCU7Ij5Eb3dudG93biBUb3JvbnRvLCBEZXNpZ24gRXhjaGFuZ2UsVG9yb250byBEb21pbmlvbiBDZW50cmU8L2Rpdj5gKVswXTsKICAgICAgICAgICAgICAgIHBvcHVwXzcyN2Q1MTkzODJhMzQyMjZiMWJlMTM3MzVhMTI2NjVkLnNldENvbnRlbnQoaHRtbF9hOWM0OTEwNmE2MjM0YWMxOGMyMTM3YmY4MTkxOTY1Nik7CiAgICAgICAgICAgIAoKICAgICAgICAgICAgY2lyY2xlX21hcmtlcl9iZDA4YWMxNGU3ZmQ0Njc0YThkNmM0MTY5OTQ1ODg5Mi5iaW5kUG9wdXAocG9wdXBfNzI3ZDUxOTM4MmEzNDIyNmIxYmUxMzczNWExMjY2NWQpCiAgICAgICAgICAgIDsKCiAgICAgICAgICAgIAogICAgICAgIAogICAgCiAgICAgICAgICAgIHZhciBjaXJjbGVfbWFya2VyXzgzNjg4ZWRjOWMzZDQzOWVhZjI0NjFmNmRmZTA4OTRmID0gTC5jaXJjbGVNYXJrZXIoCiAgICAgICAgICAgICAgICBbNDMuNjQ4MjA1MDAwMDAwMDc1LCAtNzkuMzc4NzkzMzk4OTk5OTZdLAogICAgICAgICAgICAgICAgewogICJidWJibGluZ01vdXNlRXZlbnRzIjogdHJ1ZSwKICAiY29sb3IiOiAiYmx1ZSIsCiAgImRhc2hBcnJheSI6IG51bGwsCiAgImRhc2hPZmZzZXQiOiBudWxsLAogICJmaWxsIjogdHJ1ZSwKICAiZmlsbENvbG9yIjogIiMzMTg2Y2MiLAogICJmaWxsT3BhY2l0eSI6IDAuMiwKICAiZmlsbFJ1bGUiOiAiZXZlbm9kZCIsCiAgImxpbmVDYXAiOiAicm91bmQiLAogICJsaW5lSm9pbiI6ICJyb3VuZCIsCiAgIm9wYWNpdHkiOiAxLjAsCiAgInJhZGl1cyI6IDQsCiAgInN0cm9rZSI6IHRydWUsCiAgIndlaWdodCI6IDMKfQogICAgICAgICAgICAgICAgKQogICAgICAgICAgICAgICAgLmFkZFRvKG1hcF83NDExMmI1ZTczMjU0NDNmOTM5MGZlNDg1NWU2NDMxOSk7CiAgICAgICAgICAgIAogICAgCiAgICAgICAgICAgIHZhciBwb3B1cF81ZDg5ODFjNTFhMzI0OWZiOTIwMzU2ZWYwNmFhMDM2NSA9IEwucG9wdXAoe21heFdpZHRoOiAnMTAwJScKICAgICAgICAgICAgCiAgICAgICAgICAgIH0pOwoKICAgICAgICAgICAgCiAgICAgICAgICAgICAgICB2YXIgaHRtbF85MTAyMWFjMTRkNjM0MmNiYTY4NjhkMzY5MjNmZDYxNiA9ICQoYDxkaXYgaWQ9Imh0bWxfOTEwMjFhYzE0ZDYzNDJjYmE2ODY4ZDM2OTIzZmQ2MTYiIHN0eWxlPSJ3aWR0aDogMTAwLjAlOyBoZWlnaHQ6IDEwMC4wJTsiPkRvd250b3duIFRvcm9udG8sIENvbW1lcmNlIENvdXJ0LFZpY3RvcmlhIEhvdGVsPC9kaXY+YClbMF07CiAgICAgICAgICAgICAgICBwb3B1cF81ZDg5ODFjNTFhMzI0OWZiOTIwMzU2ZWYwNmFhMDM2NS5zZXRDb250ZW50KGh0bWxfOTEwMjFhYzE0ZDYzNDJjYmE2ODY4ZDM2OTIzZmQ2MTYpOwogICAgICAgICAgICAKCiAgICAgICAgICAgIGNpcmNsZV9tYXJrZXJfODM2ODhlZGM5YzNkNDM5ZWFmMjQ2MWY2ZGZlMDg5NGYuYmluZFBvcHVwKHBvcHVwXzVkODk4MWM1MWEzMjQ5ZmI5MjAzNTZlZjA2YWEwMzY1KQogICAgICAgICAgICA7CgogICAgICAgICAgICAKICAgICAgICAKICAgIAogICAgICAgICAgICB2YXIgY2lyY2xlX21hcmtlcl8wZmU3YzI1ZTNkZTQ0NTlhOTg5OTJhMTE1MGQyMjcxZCA9IEwuY2lyY2xlTWFya2VyKAogICAgICAgICAgICAgICAgWzQzLjcxMTk0MTE1NDAwMDA0NCwgLTc5LjQxOTExOTk5OTk5OTk2XSwKICAgICAgICAgICAgICAgIHsKICAiYnViYmxpbmdNb3VzZUV2ZW50cyI6IHRydWUsCiAgImNvbG9yIjogImJsdWUiLAogICJkYXNoQXJyYXkiOiBudWxsLAogICJkYXNoT2Zmc2V0IjogbnVsbCwKICAiZmlsbCI6IHRydWUsCiAgImZpbGxDb2xvciI6ICIjMzE4NmNjIiwKICAiZmlsbE9wYWNpdHkiOiAwLjIsCiAgImZpbGxSdWxlIjogImV2ZW5vZGQiLAogICJsaW5lQ2FwIjogInJvdW5kIiwKICAibGluZUpvaW4iOiAicm91bmQiLAogICJvcGFjaXR5IjogMS4wLAogICJyYWRpdXMiOiA0LAogICJzdHJva2UiOiB0cnVlLAogICJ3ZWlnaHQiOiAzCn0KICAgICAgICAgICAgICAgICkKICAgICAgICAgICAgICAgIC5hZGRUbyhtYXBfNzQxMTJiNWU3MzI1NDQzZjkzOTBmZTQ4NTVlNjQzMTkpOwogICAgICAgICAgICAKICAgIAogICAgICAgICAgICB2YXIgcG9wdXBfYzgzY2Y4NTYzNGQwNGI1YTk2ODUxYWUzZGZiN2EyMDggPSBMLnBvcHVwKHttYXhXaWR0aDogJzEwMCUnCiAgICAgICAgICAgIAogICAgICAgICAgICB9KTsKCiAgICAgICAgICAgIAogICAgICAgICAgICAgICAgdmFyIGh0bWxfNTgwMmRmZGZlYTRjNGYxYzhmNjk3MzliOWM5M2M5MDUgPSAkKGA8ZGl2IGlkPSJodG1sXzU4MDJkZmRmZWE0YzRmMWM4ZjY5NzM5YjljOTNjOTA1IiBzdHlsZT0id2lkdGg6IDEwMC4wJTsgaGVpZ2h0OiAxMDAuMCU7Ij5DZW50cmFsIFRvcm9udG8sIFJvc2VsYXduPC9kaXY+YClbMF07CiAgICAgICAgICAgICAgICBwb3B1cF9jODNjZjg1NjM0ZDA0YjVhOTY4NTFhZTNkZmI3YTIwOC5zZXRDb250ZW50KGh0bWxfNTgwMmRmZGZlYTRjNGYxYzhmNjk3MzliOWM5M2M5MDUpOwogICAgICAgICAgICAKCiAgICAgICAgICAgIGNpcmNsZV9tYXJrZXJfMGZlN2MyNWUzZGU0NDU5YTk4OTkyYTExNTBkMjI3MWQuYmluZFBvcHVwKHBvcHVwX2M4M2NmODU2MzRkMDRiNWE5Njg1MWFlM2RmYjdhMjA4KQogICAgICAgICAgICA7CgogICAgICAgICAgICAKICAgICAgICAKICAgIAogICAgICAgICAgICB2YXIgY2lyY2xlX21hcmtlcl83MTE2ODE5MjNhNmI0ODQzOTlkMWU1ZWU5Y2ZkZGY2ZSA9IEwuY2lyY2xlTWFya2VyKAogICAgICAgICAgICAgICAgWzQzLjY5NDc4NTAwMDAwMDA4LCAtNzkuNDE0NDA0ODMyOTk5OTRdLAogICAgICAgICAgICAgICAgewogICJidWJibGluZ01vdXNlRXZlbnRzIjogdHJ1ZSwKICAiY29sb3IiOiAiYmx1ZSIsCiAgImRhc2hBcnJheSI6IG51bGwsCiAgImRhc2hPZmZzZXQiOiBudWxsLAogICJmaWxsIjogdHJ1ZSwKICAiZmlsbENvbG9yIjogIiMzMTg2Y2MiLAogICJmaWxsT3BhY2l0eSI6IDAuMiwKICAiZmlsbFJ1bGUiOiAiZXZlbm9kZCIsCiAgImxpbmVDYXAiOiAicm91bmQiLAogICJsaW5lSm9pbiI6ICJyb3VuZCIsCiAgIm9wYWNpdHkiOiAxLjAsCiAgInJhZGl1cyI6IDQsCiAgInN0cm9rZSI6IHRydWUsCiAgIndlaWdodCI6IDMKfQogICAgICAgICAgICAgICAgKQogICAgICAgICAgICAgICAgLmFkZFRvKG1hcF83NDExMmI1ZTczMjU0NDNmOTM5MGZlNDg1NWU2NDMxOSk7CiAgICAgICAgICAgIAogICAgCiAgICAgICAgICAgIHZhciBwb3B1cF83NjUwZmZjNTY1ZTA0NmVlYTFkN2Q3YzMyYTQ5YzQyMCA9IEwucG9wdXAoe21heFdpZHRoOiAnMTAwJScKICAgICAgICAgICAgCiAgICAgICAgICAgIH0pOwoKICAgICAgICAgICAgCiAgICAgICAgICAgICAgICB2YXIgaHRtbF8yZjc4ZTRmNDk0ZGQ0N2RkYjRiYWExOWQ2YmY3ZjE3OSA9ICQoYDxkaXYgaWQ9Imh0bWxfMmY3OGU0ZjQ5NGRkNDdkZGI0YmFhMTlkNmJmN2YxNzkiIHN0eWxlPSJ3aWR0aDogMTAwLjAlOyBoZWlnaHQ6IDEwMC4wJTsiPkNlbnRyYWwgVG9yb250bywgRm9yZXN0IEhpbGwgTm9ydGgsRm9yZXN0IEhpbGwgV2VzdDwvZGl2PmApWzBdOwogICAgICAgICAgICAgICAgcG9wdXBfNzY1MGZmYzU2NWUwNDZlZWExZDdkN2MzMmE0OWM0MjAuc2V0Q29udGVudChodG1sXzJmNzhlNGY0OTRkZDQ3ZGRiNGJhYTE5ZDZiZjdmMTc5KTsKICAgICAgICAgICAgCgogICAgICAgICAgICBjaXJjbGVfbWFya2VyXzcxMTY4MTkyM2E2YjQ4NDM5OWQxZTVlZTljZmRkZjZlLmJpbmRQb3B1cChwb3B1cF83NjUwZmZjNTY1ZTA0NmVlYTFkN2Q3YzMyYTQ5YzQyMCkKICAgICAgICAgICAgOwoKICAgICAgICAgICAgCiAgICAgICAgCiAgICAKICAgICAgICAgICAgdmFyIGNpcmNsZV9tYXJrZXJfZWFjMmQ2ZGE3YjEyNGFmM2EwNThmNWUzYzQ2MzlkMzEgPSBMLmNpcmNsZU1hcmtlcigKICAgICAgICAgICAgICAgIFs0My42NzQ4NDAwMDAwMDAwNzQsIC03OS40MDM2OTc2OTA5OTk5M10sCiAgICAgICAgICAgICAgICB7CiAgImJ1YmJsaW5nTW91c2VFdmVudHMiOiB0cnVlLAogICJjb2xvciI6ICJibHVlIiwKICAiZGFzaEFycmF5IjogbnVsbCwKICAiZGFzaE9mZnNldCI6IG51bGwsCiAgImZpbGwiOiB0cnVlLAogICJmaWxsQ29sb3IiOiAiIzMxODZjYyIsCiAgImZpbGxPcGFjaXR5IjogMC4yLAogICJmaWxsUnVsZSI6ICJldmVub2RkIiwKICAibGluZUNhcCI6ICJyb3VuZCIsCiAgImxpbmVKb2luIjogInJvdW5kIiwKICAib3BhY2l0eSI6IDEuMCwKICAicmFkaXVzIjogNCwKICAic3Ryb2tlIjogdHJ1ZSwKICAid2VpZ2h0IjogMwp9CiAgICAgICAgICAgICAgICApCiAgICAgICAgICAgICAgICAuYWRkVG8obWFwXzc0MTEyYjVlNzMyNTQ0M2Y5MzkwZmU0ODU1ZTY0MzE5KTsKICAgICAgICAgICAgCiAgICAKICAgICAgICAgICAgdmFyIHBvcHVwXzNlN2FmMDBmNzNkNzQ5MmNhZTA2ZGEzZWQ1OWNjN2FhID0gTC5wb3B1cCh7bWF4V2lkdGg6ICcxMDAlJwogICAgICAgICAgICAKICAgICAgICAgICAgfSk7CgogICAgICAgICAgICAKICAgICAgICAgICAgICAgIHZhciBodG1sXzgzZmMzNWY3ZWU0MDQ0ZmNiZjY1YTdhZTA2MGZlMmI0ID0gJChgPGRpdiBpZD0iaHRtbF84M2ZjMzVmN2VlNDA0NGZjYmY2NWE3YWUwNjBmZTJiNCIgc3R5bGU9IndpZHRoOiAxMDAuMCU7IGhlaWdodDogMTAwLjAlOyI+Q2VudHJhbCBUb3JvbnRvLCBUaGUgQW5uZXgsTm9ydGggTWlkdG93bixZb3JrdmlsbGU8L2Rpdj5gKVswXTsKICAgICAgICAgICAgICAgIHBvcHVwXzNlN2FmMDBmNzNkNzQ5MmNhZTA2ZGEzZWQ1OWNjN2FhLnNldENvbnRlbnQoaHRtbF84M2ZjMzVmN2VlNDA0NGZjYmY2NWE3YWUwNjBmZTJiNCk7CiAgICAgICAgICAgIAoKICAgICAgICAgICAgY2lyY2xlX21hcmtlcl9lYWMyZDZkYTdiMTI0YWYzYTA1OGY1ZTNjNDYzOWQzMS5iaW5kUG9wdXAocG9wdXBfM2U3YWYwMGY3M2Q3NDkyY2FlMDZkYTNlZDU5Y2M3YWEpCiAgICAgICAgICAgIDsKCiAgICAgICAgICAgIAogICAgICAgIAogICAgCiAgICAgICAgICAgIHZhciBjaXJjbGVfbWFya2VyX2Y4MWNkNmNiODJhYTQ1ZjU5MDZlNGZiOGUzZDA2YzkyID0gTC5jaXJjbGVNYXJrZXIoCiAgICAgICAgICAgICAgICBbNDMuNjYzMTEwMDAwMDAwMDc0LCAtNzkuNDAxODAwNTY2OTk5OTVdLAogICAgICAgICAgICAgICAgewogICJidWJibGluZ01vdXNlRXZlbnRzIjogdHJ1ZSwKICAiY29sb3IiOiAiYmx1ZSIsCiAgImRhc2hBcnJheSI6IG51bGwsCiAgImRhc2hPZmZzZXQiOiBudWxsLAogICJmaWxsIjogdHJ1ZSwKICAiZmlsbENvbG9yIjogIiMzMTg2Y2MiLAogICJmaWxsT3BhY2l0eSI6IDAuMiwKICAiZmlsbFJ1bGUiOiAiZXZlbm9kZCIsCiAgImxpbmVDYXAiOiAicm91bmQiLAogICJsaW5lSm9pbiI6ICJyb3VuZCIsCiAgIm9wYWNpdHkiOiAxLjAsCiAgInJhZGl1cyI6IDQsCiAgInN0cm9rZSI6IHRydWUsCiAgIndlaWdodCI6IDMKfQogICAgICAgICAgICAgICAgKQogICAgICAgICAgICAgICAgLmFkZFRvKG1hcF83NDExMmI1ZTczMjU0NDNmOTM5MGZlNDg1NWU2NDMxOSk7CiAgICAgICAgICAgIAogICAgCiAgICAgICAgICAgIHZhciBwb3B1cF9kZDMzYjhkZjdkYWY0NTEwYmNkMWVlNjZiNmRiZjE2MiA9IEwucG9wdXAoe21heFdpZHRoOiAnMTAwJScKICAgICAgICAgICAgCiAgICAgICAgICAgIH0pOwoKICAgICAgICAgICAgCiAgICAgICAgICAgICAgICB2YXIgaHRtbF81NDg1OGQzZTQ4MjM0OGRiOWMxYWE2NjE2M2U1MGI5NCA9ICQoYDxkaXYgaWQ9Imh0bWxfNTQ4NThkM2U0ODIzNDhkYjljMWFhNjYxNjNlNTBiOTQiIHN0eWxlPSJ3aWR0aDogMTAwLjAlOyBoZWlnaHQ6IDEwMC4wJTsiPkRvd250b3duIFRvcm9udG8sIEhhcmJvcmQsVW5pdmVyc2l0eSBvZiBUb3JvbnRvPC9kaXY+YClbMF07CiAgICAgICAgICAgICAgICBwb3B1cF9kZDMzYjhkZjdkYWY0NTEwYmNkMWVlNjZiNmRiZjE2Mi5zZXRDb250ZW50KGh0bWxfNTQ4NThkM2U0ODIzNDhkYjljMWFhNjYxNjNlNTBiOTQpOwogICAgICAgICAgICAKCiAgICAgICAgICAgIGNpcmNsZV9tYXJrZXJfZjgxY2Q2Y2I4MmFhNDVmNTkwNmU0ZmI4ZTNkMDZjOTIuYmluZFBvcHVwKHBvcHVwX2RkMzNiOGRmN2RhZjQ1MTBiY2QxZWU2NmI2ZGJmMTYyKQogICAgICAgICAgICA7CgogICAgICAgICAgICAKICAgICAgICAKICAgIAogICAgICAgICAgICB2YXIgY2lyY2xlX21hcmtlcl9iZjkxMzQ3Mzc0ZmI0OGQyYTlmZjZjYjc2NDQ5MGViZCA9IEwuY2lyY2xlTWFya2VyKAogICAgICAgICAgICAgICAgWzQzLjY1MzU3MDAwMDAwMDA2LCAtNzkuMzk3MjQ5MTU2OTk5OThdLAogICAgICAgICAgICAgICAgewogICJidWJibGluZ01vdXNlRXZlbnRzIjogdHJ1ZSwKICAiY29sb3IiOiAiYmx1ZSIsCiAgImRhc2hBcnJheSI6IG51bGwsCiAgImRhc2hPZmZzZXQiOiBudWxsLAogICJmaWxsIjogdHJ1ZSwKICAiZmlsbENvbG9yIjogIiMzMTg2Y2MiLAogICJmaWxsT3BhY2l0eSI6IDAuMiwKICAiZmlsbFJ1bGUiOiAiZXZlbm9kZCIsCiAgImxpbmVDYXAiOiAicm91bmQiLAogICJsaW5lSm9pbiI6ICJyb3VuZCIsCiAgIm9wYWNpdHkiOiAxLjAsCiAgInJhZGl1cyI6IDQsCiAgInN0cm9rZSI6IHRydWUsCiAgIndlaWdodCI6IDMKfQogICAgICAgICAgICAgICAgKQogICAgICAgICAgICAgICAgLmFkZFRvKG1hcF83NDExMmI1ZTczMjU0NDNmOTM5MGZlNDg1NWU2NDMxOSk7CiAgICAgICAgICAgIAogICAgCiAgICAgICAgICAgIHZhciBwb3B1cF83YWU1ZGE0OGVlZTQ0NTM0Yjc0NzA5ZDg4YjcyZjgwMyA9IEwucG9wdXAoe21heFdpZHRoOiAnMTAwJScKICAgICAgICAgICAgCiAgICAgICAgICAgIH0pOwoKICAgICAgICAgICAgCiAgICAgICAgICAgICAgICB2YXIgaHRtbF80ZTIwMmVlZDk1MmE0NTFmODAwYjk1ZmRjYjhjZTk0NSA9ICQoYDxkaXYgaWQ9Imh0bWxfNGUyMDJlZWQ5NTJhNDUxZjgwMGI5NWZkY2I4Y2U5NDUiIHN0eWxlPSJ3aWR0aDogMTAwLjAlOyBoZWlnaHQ6IDEwMC4wJTsiPkRvd250b3duIFRvcm9udG8sIENoaW5hdG93bixHcmFuZ2UgUGFyayxLZW5zaW5ndG9uIE1hcmtldDwvZGl2PmApWzBdOwogICAgICAgICAgICAgICAgcG9wdXBfN2FlNWRhNDhlZWU0NDUzNGI3NDcwOWQ4OGI3MmY4MDMuc2V0Q29udGVudChodG1sXzRlMjAyZWVkOTUyYTQ1MWY4MDBiOTVmZGNiOGNlOTQ1KTsKICAgICAgICAgICAgCgogICAgICAgICAgICBjaXJjbGVfbWFya2VyX2JmOTEzNDczNzRmYjQ4ZDJhOWZmNmNiNzY0NDkwZWJkLmJpbmRQb3B1cChwb3B1cF83YWU1ZGE0OGVlZTQ0NTM0Yjc0NzA5ZDg4YjcyZjgwMykKICAgICAgICAgICAgOwoKICAgICAgICAgICAgCiAgICAgICAgCiAgICAKICAgICAgICAgICAgdmFyIGNpcmNsZV9tYXJrZXJfMmE3YjlhNzUwZGYzNGE4Y2IwMDk2MjkyOGYxMmNlZTkgPSBMLmNpcmNsZU1hcmtlcigKICAgICAgICAgICAgICAgIFs0My42NDA4MTUwMDAwMDAwMywgLTc5LjM5OTUzNzgxODk5OTk5XSwKICAgICAgICAgICAgICAgIHsKICAiYnViYmxpbmdNb3VzZUV2ZW50cyI6IHRydWUsCiAgImNvbG9yIjogImJsdWUiLAogICJkYXNoQXJyYXkiOiBudWxsLAogICJkYXNoT2Zmc2V0IjogbnVsbCwKICAiZmlsbCI6IHRydWUsCiAgImZpbGxDb2xvciI6ICIjMzE4NmNjIiwKICAiZmlsbE9wYWNpdHkiOiAwLjIsCiAgImZpbGxSdWxlIjogImV2ZW5vZGQiLAogICJsaW5lQ2FwIjogInJvdW5kIiwKICAibGluZUpvaW4iOiAicm91bmQiLAogICJvcGFjaXR5IjogMS4wLAogICJyYWRpdXMiOiA0LAogICJzdHJva2UiOiB0cnVlLAogICJ3ZWlnaHQiOiAzCn0KICAgICAgICAgICAgICAgICkKICAgICAgICAgICAgICAgIC5hZGRUbyhtYXBfNzQxMTJiNWU3MzI1NDQzZjkzOTBmZTQ4NTVlNjQzMTkpOwogICAgICAgICAgICAKICAgIAogICAgICAgICAgICB2YXIgcG9wdXBfMjg2NzU0YWQ3ZTNhNDJhYWE5NzY2ZjI3YWFkOTBmOWIgPSBMLnBvcHVwKHttYXhXaWR0aDogJzEwMCUnCiAgICAgICAgICAgIAogICAgICAgICAgICB9KTsKCiAgICAgICAgICAgIAogICAgICAgICAgICAgICAgdmFyIGh0bWxfYTg4YTEzMWJlNGJmNGZiNmI2MzI0ZTMzYjljZjA2YWMgPSAkKGA8ZGl2IGlkPSJodG1sX2E4OGExMzFiZTRiZjRmYjZiNjMyNGUzM2I5Y2YwNmFjIiBzdHlsZT0id2lkdGg6IDEwMC4wJTsgaGVpZ2h0OiAxMDAuMCU7Ij5Eb3dudG93biBUb3JvbnRvLCBDTiBUb3dlcixCYXRodXJzdCBRdWF5LElzbGFuZCBhaXJwb3J0LEhhcmJvdXJmcm9udCBXZXN0LEtpbmcgYW5kIFNwYWRpbmEsUmFpbHdheSBMYW5kcyxTb3V0aCBOaWFnYXJhPC9kaXY+YClbMF07CiAgICAgICAgICAgICAgICBwb3B1cF8yODY3NTRhZDdlM2E0MmFhYTk3NjZmMjdhYWQ5MGY5Yi5zZXRDb250ZW50KGh0bWxfYTg4YTEzMWJlNGJmNGZiNmI2MzI0ZTMzYjljZjA2YWMpOwogICAgICAgICAgICAKCiAgICAgICAgICAgIGNpcmNsZV9tYXJrZXJfMmE3YjlhNzUwZGYzNGE4Y2IwMDk2MjkyOGYxMmNlZTkuYmluZFBvcHVwKHBvcHVwXzI4Njc1NGFkN2UzYTQyYWFhOTc2NmYyN2FhZDkwZjliKQogICAgICAgICAgICA7CgogICAgICAgICAgICAKICAgICAgICAKICAgIAogICAgICAgICAgICB2YXIgY2lyY2xlX21hcmtlcl8xNTkyZDc5Y2JkNmY0NjFlYjYyNDQ2Zjg0MWM3OTFhOSA9IEwuY2lyY2xlTWFya2VyKAogICAgICAgICAgICAgICAgWzQzLjY0ODY5MDAwMDAwMDA0NSwgLTc5LjM4NTQzOTk5OTk5OTk2XSwKICAgICAgICAgICAgICAgIHsKICAiYnViYmxpbmdNb3VzZUV2ZW50cyI6IHRydWUsCiAgImNvbG9yIjogImJsdWUiLAogICJkYXNoQXJyYXkiOiBudWxsLAogICJkYXNoT2Zmc2V0IjogbnVsbCwKICAiZmlsbCI6IHRydWUsCiAgImZpbGxDb2xvciI6ICIjMzE4NmNjIiwKICAiZmlsbE9wYWNpdHkiOiAwLjIsCiAgImZpbGxSdWxlIjogImV2ZW5vZGQiLAogICJsaW5lQ2FwIjogInJvdW5kIiwKICAibGluZUpvaW4iOiAicm91bmQiLAogICJvcGFjaXR5IjogMS4wLAogICJyYWRpdXMiOiA0LAogICJzdHJva2UiOiB0cnVlLAogICJ3ZWlnaHQiOiAzCn0KICAgICAgICAgICAgICAgICkKICAgICAgICAgICAgICAgIC5hZGRUbyhtYXBfNzQxMTJiNWU3MzI1NDQzZjkzOTBmZTQ4NTVlNjQzMTkpOwogICAgICAgICAgICAKICAgIAogICAgICAgICAgICB2YXIgcG9wdXBfMmFhY2FhN2RlYWZjNDc3M2FiZTBhZDA5OGVjNjI1MjAgPSBMLnBvcHVwKHttYXhXaWR0aDogJzEwMCUnCiAgICAgICAgICAgIAogICAgICAgICAgICB9KTsKCiAgICAgICAgICAgIAogICAgICAgICAgICAgICAgdmFyIGh0bWxfNTI4NWUwYTdkYWZkNDI0ZDk3MmRmODk1MjdmYjFhYWIgPSAkKGA8ZGl2IGlkPSJodG1sXzUyODVlMGE3ZGFmZDQyNGQ5NzJkZjg5NTI3ZmIxYWFiIiBzdHlsZT0id2lkdGg6IDEwMC4wJTsgaGVpZ2h0OiAxMDAuMCU7Ij5Eb3dudG93biBUb3JvbnRvLCBTdG4gQSBQTyBCb3hlcyAyNSBUaGUgRXNwbGFuYWRlPC9kaXY+YClbMF07CiAgICAgICAgICAgICAgICBwb3B1cF8yYWFjYWE3ZGVhZmM0NzczYWJlMGFkMDk4ZWM2MjUyMC5zZXRDb250ZW50KGh0bWxfNTI4NWUwYTdkYWZkNDI0ZDk3MmRmODk1MjdmYjFhYWIpOwogICAgICAgICAgICAKCiAgICAgICAgICAgIGNpcmNsZV9tYXJrZXJfMTU5MmQ3OWNiZDZmNDYxZWI2MjQ0NmY4NDFjNzkxYTkuYmluZFBvcHVwKHBvcHVwXzJhYWNhYTdkZWFmYzQ3NzNhYmUwYWQwOThlYzYyNTIwKQogICAgICAgICAgICA7CgogICAgICAgICAgICAKICAgICAgICAKICAgIAogICAgICAgICAgICB2YXIgY2lyY2xlX21hcmtlcl9kNWFiYWM4OGRmZDQ0M2U2YWI3ZWMzNTgxZWYyMmE3MyA9IEwuY2lyY2xlTWFya2VyKAogICAgICAgICAgICAgICAgWzQzLjY0ODI4MDAwMDAwMDA2LCAtNzkuMzgxNDYwODI1OTk5OTddLAogICAgICAgICAgICAgICAgewogICJidWJibGluZ01vdXNlRXZlbnRzIjogdHJ1ZSwKICAiY29sb3IiOiAiYmx1ZSIsCiAgImRhc2hBcnJheSI6IG51bGwsCiAgImRhc2hPZmZzZXQiOiBudWxsLAogICJmaWxsIjogdHJ1ZSwKICAiZmlsbENvbG9yIjogIiMzMTg2Y2MiLAogICJmaWxsT3BhY2l0eSI6IDAuMiwKICAiZmlsbFJ1bGUiOiAiZXZlbm9kZCIsCiAgImxpbmVDYXAiOiAicm91bmQiLAogICJsaW5lSm9pbiI6ICJyb3VuZCIsCiAgIm9wYWNpdHkiOiAxLjAsCiAgInJhZGl1cyI6IDQsCiAgInN0cm9rZSI6IHRydWUsCiAgIndlaWdodCI6IDMKfQogICAgICAgICAgICAgICAgKQogICAgICAgICAgICAgICAgLmFkZFRvKG1hcF83NDExMmI1ZTczMjU0NDNmOTM5MGZlNDg1NWU2NDMxOSk7CiAgICAgICAgICAgIAogICAgCiAgICAgICAgICAgIHZhciBwb3B1cF8yY2M3YTUzYzdmNTY0N2E3YWE0YjcyZDJkNTU0MzlkMiA9IEwucG9wdXAoe21heFdpZHRoOiAnMTAwJScKICAgICAgICAgICAgCiAgICAgICAgICAgIH0pOwoKICAgICAgICAgICAgCiAgICAgICAgICAgICAgICB2YXIgaHRtbF8xMDE2ZGY2ZmU3Y2Y0YzI3OTlkOWJiNGJmYjlkZmRkMSA9ICQoYDxkaXYgaWQ9Imh0bWxfMTAxNmRmNmZlN2NmNGMyNzk5ZDliYjRiZmI5ZGZkZDEiIHN0eWxlPSJ3aWR0aDogMTAwLjAlOyBoZWlnaHQ6IDEwMC4wJTsiPkRvd250b3duIFRvcm9udG8sIEZpcnN0IENhbmFkaWFuIFBsYWNlLFVuZGVyZ3JvdW5kIGNpdHk8L2Rpdj5gKVswXTsKICAgICAgICAgICAgICAgIHBvcHVwXzJjYzdhNTNjN2Y1NjQ3YTdhYTRiNzJkMmQ1NTQzOWQyLnNldENvbnRlbnQoaHRtbF8xMDE2ZGY2ZmU3Y2Y0YzI3OTlkOWJiNGJmYjlkZmRkMSk7CiAgICAgICAgICAgIAoKICAgICAgICAgICAgY2lyY2xlX21hcmtlcl9kNWFiYWM4OGRmZDQ0M2U2YWI3ZWMzNTgxZWYyMmE3My5iaW5kUG9wdXAocG9wdXBfMmNjN2E1M2M3ZjU2NDdhN2FhNGI3MmQyZDU1NDM5ZDIpCiAgICAgICAgICAgIDsKCiAgICAgICAgICAgIAogICAgICAgIAogICAgCiAgICAgICAgICAgIHZhciBjaXJjbGVfbWFya2VyXzZkZDI4NTIyNmU2YTQ1YjM4OTIzZmE5MjNmOWIyNWQxID0gTC5jaXJjbGVNYXJrZXIoCiAgICAgICAgICAgICAgICBbNDMuNjY4NzgxMzI4MDAwMDgsIC03OS40MjA3MDk5OTk5OTk5OV0sCiAgICAgICAgICAgICAgICB7CiAgImJ1YmJsaW5nTW91c2VFdmVudHMiOiB0cnVlLAogICJjb2xvciI6ICJibHVlIiwKICAiZGFzaEFycmF5IjogbnVsbCwKICAiZGFzaE9mZnNldCI6IG51bGwsCiAgImZpbGwiOiB0cnVlLAogICJmaWxsQ29sb3IiOiAiIzMxODZjYyIsCiAgImZpbGxPcGFjaXR5IjogMC4yLAogICJmaWxsUnVsZSI6ICJldmVub2RkIiwKICAibGluZUNhcCI6ICJyb3VuZCIsCiAgImxpbmVKb2luIjogInJvdW5kIiwKICAib3BhY2l0eSI6IDEuMCwKICAicmFkaXVzIjogNCwKICAic3Ryb2tlIjogdHJ1ZSwKICAid2VpZ2h0IjogMwp9CiAgICAgICAgICAgICAgICApCiAgICAgICAgICAgICAgICAuYWRkVG8obWFwXzc0MTEyYjVlNzMyNTQ0M2Y5MzkwZmU0ODU1ZTY0MzE5KTsKICAgICAgICAgICAgCiAgICAKICAgICAgICAgICAgdmFyIHBvcHVwX2Q2NTNhMGUwNTdmZDQyMzY4OTRiODc1Yzk3MTRkYTA0ID0gTC5wb3B1cCh7bWF4V2lkdGg6ICcxMDAlJwogICAgICAgICAgICAKICAgICAgICAgICAgfSk7CgogICAgICAgICAgICAKICAgICAgICAgICAgICAgIHZhciBodG1sXzI4MTZhMjVlYmM1MDQ5N2NiNTY1NDUzN2M3ZGE2ZWQyID0gJChgPGRpdiBpZD0iaHRtbF8yODE2YTI1ZWJjNTA0OTdjYjU2NTQ1MzdjN2RhNmVkMiIgc3R5bGU9IndpZHRoOiAxMDAuMCU7IGhlaWdodDogMTAwLjAlOyI+RG93bnRvd24gVG9yb250bywgQ2hyaXN0aWU8L2Rpdj5gKVswXTsKICAgICAgICAgICAgICAgIHBvcHVwX2Q2NTNhMGUwNTdmZDQyMzY4OTRiODc1Yzk3MTRkYTA0LnNldENvbnRlbnQoaHRtbF8yODE2YTI1ZWJjNTA0OTdjYjU2NTQ1MzdjN2RhNmVkMik7CiAgICAgICAgICAgIAoKICAgICAgICAgICAgY2lyY2xlX21hcmtlcl82ZGQyODUyMjZlNmE0NWIzODkyM2ZhOTIzZjliMjVkMS5iaW5kUG9wdXAocG9wdXBfZDY1M2EwZTA1N2ZkNDIzNjg5NGI4NzVjOTcxNGRhMDQpCiAgICAgICAgICAgIDsKCiAgICAgICAgICAgIAogICAgICAgIAogICAgCiAgICAgICAgICAgIHZhciBjaXJjbGVfbWFya2VyXzJiNWUxZGRjMDk5OTRhZGZhMWU1M2UxMWY5NjVlODJhID0gTC5jaXJjbGVNYXJrZXIoCiAgICAgICAgICAgICAgICBbNDMuNjY1MDg2OTQzMDAwMDYsIC03OS40Mzg3MDQ5OTk5OTk5N10sCiAgICAgICAgICAgICAgICB7CiAgImJ1YmJsaW5nTW91c2VFdmVudHMiOiB0cnVlLAogICJjb2xvciI6ICJibHVlIiwKICAiZGFzaEFycmF5IjogbnVsbCwKICAiZGFzaE9mZnNldCI6IG51bGwsCiAgImZpbGwiOiB0cnVlLAogICJmaWxsQ29sb3IiOiAiIzMxODZjYyIsCiAgImZpbGxPcGFjaXR5IjogMC4yLAogICJmaWxsUnVsZSI6ICJldmVub2RkIiwKICAibGluZUNhcCI6ICJyb3VuZCIsCiAgImxpbmVKb2luIjogInJvdW5kIiwKICAib3BhY2l0eSI6IDEuMCwKICAicmFkaXVzIjogNCwKICAic3Ryb2tlIjogdHJ1ZSwKICAid2VpZ2h0IjogMwp9CiAgICAgICAgICAgICAgICApCiAgICAgICAgICAgICAgICAuYWRkVG8obWFwXzc0MTEyYjVlNzMyNTQ0M2Y5MzkwZmU0ODU1ZTY0MzE5KTsKICAgICAgICAgICAgCiAgICAKICAgICAgICAgICAgdmFyIHBvcHVwXzQwOTMxNzVmYWQ0NDQyZTQ4OGQ1MWEwNjc0M2MyZDcwID0gTC5wb3B1cCh7bWF4V2lkdGg6ICcxMDAlJwogICAgICAgICAgICAKICAgICAgICAgICAgfSk7CgogICAgICAgICAgICAKICAgICAgICAgICAgICAgIHZhciBodG1sXzBiNjIzMWM2OGY5MTRlNDlhMjE0NzI4ZjE2YzQ0MDAwID0gJChgPGRpdiBpZD0iaHRtbF8wYjYyMzFjNjhmOTE0ZTQ5YTIxNDcyOGYxNmM0NDAwMCIgc3R5bGU9IndpZHRoOiAxMDAuMCU7IGhlaWdodDogMTAwLjAlOyI+V2VzdCBUb3JvbnRvLCBEb3ZlcmNvdXJ0IFZpbGxhZ2UsRHVmZmVyaW48L2Rpdj5gKVswXTsKICAgICAgICAgICAgICAgIHBvcHVwXzQwOTMxNzVmYWQ0NDQyZTQ4OGQ1MWEwNjc0M2MyZDcwLnNldENvbnRlbnQoaHRtbF8wYjYyMzFjNjhmOTE0ZTQ5YTIxNDcyOGYxNmM0NDAwMCk7CiAgICAgICAgICAgIAoKICAgICAgICAgICAgY2lyY2xlX21hcmtlcl8yYjVlMWRkYzA5OTk0YWRmYTFlNTNlMTFmOTY1ZTgyYS5iaW5kUG9wdXAocG9wdXBfNDA5MzE3NWZhZDQ0NDJlNDg4ZDUxYTA2NzQzYzJkNzApCiAgICAgICAgICAgIDsKCiAgICAgICAgICAgIAogICAgICAgIAogICAgCiAgICAgICAgICAgIHZhciBjaXJjbGVfbWFya2VyX2VlNWEyYzhhMTdiZjRlZmQ4ZDU5Njc0YzJhMWRmNzY4ID0gTC5jaXJjbGVNYXJrZXIoCiAgICAgICAgICAgICAgICBbNDMuNjQ4NDg1MDAwMDAwMDUsIC03OS40MTc3NDE1MDg5OTk5NF0sCiAgICAgICAgICAgICAgICB7CiAgImJ1YmJsaW5nTW91c2VFdmVudHMiOiB0cnVlLAogICJjb2xvciI6ICJibHVlIiwKICAiZGFzaEFycmF5IjogbnVsbCwKICAiZGFzaE9mZnNldCI6IG51bGwsCiAgImZpbGwiOiB0cnVlLAogICJmaWxsQ29sb3IiOiAiIzMxODZjYyIsCiAgImZpbGxPcGFjaXR5IjogMC4yLAogICJmaWxsUnVsZSI6ICJldmVub2RkIiwKICAibGluZUNhcCI6ICJyb3VuZCIsCiAgImxpbmVKb2luIjogInJvdW5kIiwKICAib3BhY2l0eSI6IDEuMCwKICAicmFkaXVzIjogNCwKICAic3Ryb2tlIjogdHJ1ZSwKICAid2VpZ2h0IjogMwp9CiAgICAgICAgICAgICAgICApCiAgICAgICAgICAgICAgICAuYWRkVG8obWFwXzc0MTEyYjVlNzMyNTQ0M2Y5MzkwZmU0ODU1ZTY0MzE5KTsKICAgICAgICAgICAgCiAgICAKICAgICAgICAgICAgdmFyIHBvcHVwXzMzMTcyZDExMGZjYzQ3MDBhMjg3ZTdhYmJmN2E4YzY1ID0gTC5wb3B1cCh7bWF4V2lkdGg6ICcxMDAlJwogICAgICAgICAgICAKICAgICAgICAgICAgfSk7CgogICAgICAgICAgICAKICAgICAgICAgICAgICAgIHZhciBodG1sXzc3NjUxYzhhODVjMTQwMjZhMTM2MDFiNDJhZDBlMDBmID0gJChgPGRpdiBpZD0iaHRtbF83NzY1MWM4YTg1YzE0MDI2YTEzNjAxYjQyYWQwZTAwZiIgc3R5bGU9IndpZHRoOiAxMDAuMCU7IGhlaWdodDogMTAwLjAlOyI+V2VzdCBUb3JvbnRvLCBMaXR0bGUgUG9ydHVnYWwsVHJpbml0eTwvZGl2PmApWzBdOwogICAgICAgICAgICAgICAgcG9wdXBfMzMxNzJkMTEwZmNjNDcwMGEyODdlN2FiYmY3YThjNjUuc2V0Q29udGVudChodG1sXzc3NjUxYzhhODVjMTQwMjZhMTM2MDFiNDJhZDBlMDBmKTsKICAgICAgICAgICAgCgogICAgICAgICAgICBjaXJjbGVfbWFya2VyX2VlNWEyYzhhMTdiZjRlZmQ4ZDU5Njc0YzJhMWRmNzY4LmJpbmRQb3B1cChwb3B1cF8zMzE3MmQxMTBmY2M0NzAwYTI4N2U3YWJiZjdhOGM2NSkKICAgICAgICAgICAgOwoKICAgICAgICAgICAgCiAgICAgICAgCiAgICAKICAgICAgICAgICAgdmFyIGNpcmNsZV9tYXJrZXJfYzk0NmZjNmVlZGYwNGMyZjhlYzNiZDg0MmM1YmQ5YzYgPSBMLmNpcmNsZU1hcmtlcigKICAgICAgICAgICAgICAgIFs0My42Mzk0MTAwMDAwMDAwNTUsIC03OS40MjQzNjIwMTk5OTk5OV0sCiAgICAgICAgICAgICAgICB7CiAgImJ1YmJsaW5nTW91c2VFdmVudHMiOiB0cnVlLAogICJjb2xvciI6ICJibHVlIiwKICAiZGFzaEFycmF5IjogbnVsbCwKICAiZGFzaE9mZnNldCI6IG51bGwsCiAgImZpbGwiOiB0cnVlLAogICJmaWxsQ29sb3IiOiAiIzMxODZjYyIsCiAgImZpbGxPcGFjaXR5IjogMC4yLAogICJmaWxsUnVsZSI6ICJldmVub2RkIiwKICAibGluZUNhcCI6ICJyb3VuZCIsCiAgImxpbmVKb2luIjogInJvdW5kIiwKICAib3BhY2l0eSI6IDEuMCwKICAicmFkaXVzIjogNCwKICAic3Ryb2tlIjogdHJ1ZSwKICAid2VpZ2h0IjogMwp9CiAgICAgICAgICAgICAgICApCiAgICAgICAgICAgICAgICAuYWRkVG8obWFwXzc0MTEyYjVlNzMyNTQ0M2Y5MzkwZmU0ODU1ZTY0MzE5KTsKICAgICAgICAgICAgCiAgICAKICAgICAgICAgICAgdmFyIHBvcHVwXzcwYTBlMGFmNmMxYzQzOGE5ZTQ2NGRkYmNjN2VkYWI2ID0gTC5wb3B1cCh7bWF4V2lkdGg6ICcxMDAlJwogICAgICAgICAgICAKICAgICAgICAgICAgfSk7CgogICAgICAgICAgICAKICAgICAgICAgICAgICAgIHZhciBodG1sXzE2MjVjMmRlM2Y3ODRkMzZiNzU2YzZkNWQyNjgxZmY3ID0gJChgPGRpdiBpZD0iaHRtbF8xNjI1YzJkZTNmNzg0ZDM2Yjc1NmM2ZDVkMjY4MWZmNyIgc3R5bGU9IndpZHRoOiAxMDAuMCU7IGhlaWdodDogMTAwLjAlOyI+V2VzdCBUb3JvbnRvLCBCcm9ja3RvbixFeGhpYml0aW9uIFBsYWNlLFBhcmtkYWxlIFZpbGxhZ2U8L2Rpdj5gKVswXTsKICAgICAgICAgICAgICAgIHBvcHVwXzcwYTBlMGFmNmMxYzQzOGE5ZTQ2NGRkYmNjN2VkYWI2LnNldENvbnRlbnQoaHRtbF8xNjI1YzJkZTNmNzg0ZDM2Yjc1NmM2ZDVkMjY4MWZmNyk7CiAgICAgICAgICAgIAoKICAgICAgICAgICAgY2lyY2xlX21hcmtlcl9jOTQ2ZmM2ZWVkZjA0YzJmOGVjM2JkODQyYzViZDljNi5iaW5kUG9wdXAocG9wdXBfNzBhMGUwYWY2YzFjNDM4YTllNDY0ZGRiY2M3ZWRhYjYpCiAgICAgICAgICAgIDsKCiAgICAgICAgICAgIAogICAgICAgIAogICAgCiAgICAgICAgICAgIHZhciBjaXJjbGVfbWFya2VyXzQ0ZmQ2YzZiNGY4YTRlNjA5ODQwNjQ3N2Q3NjllOWRkID0gTC5jaXJjbGVNYXJrZXIoCiAgICAgICAgICAgICAgICBbNDMuNjU5OTc1MDAwMDAwMDMsIC03OS40NjI4NzM1Nzk5OTk5NV0sCiAgICAgICAgICAgICAgICB7CiAgImJ1YmJsaW5nTW91c2VFdmVudHMiOiB0cnVlLAogICJjb2xvciI6ICJibHVlIiwKICAiZGFzaEFycmF5IjogbnVsbCwKICAiZGFzaE9mZnNldCI6IG51bGwsCiAgImZpbGwiOiB0cnVlLAogICJmaWxsQ29sb3IiOiAiIzMxODZjYyIsCiAgImZpbGxPcGFjaXR5IjogMC4yLAogICJmaWxsUnVsZSI6ICJldmVub2RkIiwKICAibGluZUNhcCI6ICJyb3VuZCIsCiAgImxpbmVKb2luIjogInJvdW5kIiwKICAib3BhY2l0eSI6IDEuMCwKICAicmFkaXVzIjogNCwKICAic3Ryb2tlIjogdHJ1ZSwKICAid2VpZ2h0IjogMwp9CiAgICAgICAgICAgICAgICApCiAgICAgICAgICAgICAgICAuYWRkVG8obWFwXzc0MTEyYjVlNzMyNTQ0M2Y5MzkwZmU0ODU1ZTY0MzE5KTsKICAgICAgICAgICAgCiAgICAKICAgICAgICAgICAgdmFyIHBvcHVwX2RkYWY0M2UwZTNjMjQ5MTM4ZDBiNTVjN2RlZjM5YjkxID0gTC5wb3B1cCh7bWF4V2lkdGg6ICcxMDAlJwogICAgICAgICAgICAKICAgICAgICAgICAgfSk7CgogICAgICAgICAgICAKICAgICAgICAgICAgICAgIHZhciBodG1sXzFlNGYxZTQ3OTU4MDQzZTE4YjJlOGQzOTFmNGRhYzhjID0gJChgPGRpdiBpZD0iaHRtbF8xZTRmMWU0Nzk1ODA0M2UxOGIyZThkMzkxZjRkYWM4YyIgc3R5bGU9IndpZHRoOiAxMDAuMCU7IGhlaWdodDogMTAwLjAlOyI+V2VzdCBUb3JvbnRvLCBIaWdoIFBhcmssVGhlIEp1bmN0aW9uIFNvdXRoPC9kaXY+YClbMF07CiAgICAgICAgICAgICAgICBwb3B1cF9kZGFmNDNlMGUzYzI0OTEzOGQwYjU1YzdkZWYzOWI5MS5zZXRDb250ZW50KGh0bWxfMWU0ZjFlNDc5NTgwNDNlMThiMmU4ZDM5MWY0ZGFjOGMpOwogICAgICAgICAgICAKCiAgICAgICAgICAgIGNpcmNsZV9tYXJrZXJfNDRmZDZjNmI0ZjhhNGU2MDk4NDA2NDc3ZDc2OWU5ZGQuYmluZFBvcHVwKHBvcHVwX2RkYWY0M2UwZTNjMjQ5MTM4ZDBiNTVjN2RlZjM5YjkxKQogICAgICAgICAgICA7CgogICAgICAgICAgICAKICAgICAgICAKICAgIAogICAgICAgICAgICB2YXIgY2lyY2xlX21hcmtlcl8wMDllOWFhZmI4OGU0NzFmYjZiNTExMzVjNWRmZmJhYyA9IEwuY2lyY2xlTWFya2VyKAogICAgICAgICAgICAgICAgWzQzLjY0Nzg3MDAwMDAwMDA3LCAtNzkuNDQ5NzYyNDk5OTk5OTZdLAogICAgICAgICAgICAgICAgewogICJidWJibGluZ01vdXNlRXZlbnRzIjogdHJ1ZSwKICAiY29sb3IiOiAiYmx1ZSIsCiAgImRhc2hBcnJheSI6IG51bGwsCiAgImRhc2hPZmZzZXQiOiBudWxsLAogICJmaWxsIjogdHJ1ZSwKICAiZmlsbENvbG9yIjogIiMzMTg2Y2MiLAogICJmaWxsT3BhY2l0eSI6IDAuMiwKICAiZmlsbFJ1bGUiOiAiZXZlbm9kZCIsCiAgImxpbmVDYXAiOiAicm91bmQiLAogICJsaW5lSm9pbiI6ICJyb3VuZCIsCiAgIm9wYWNpdHkiOiAxLjAsCiAgInJhZGl1cyI6IDQsCiAgInN0cm9rZSI6IHRydWUsCiAgIndlaWdodCI6IDMKfQogICAgICAgICAgICAgICAgKQogICAgICAgICAgICAgICAgLmFkZFRvKG1hcF83NDExMmI1ZTczMjU0NDNmOTM5MGZlNDg1NWU2NDMxOSk7CiAgICAgICAgICAgIAogICAgCiAgICAgICAgICAgIHZhciBwb3B1cF9kYTE0YWNlMWZlOGQ0MzYwYTAzYzc0NWZmOWJkMGVjOSA9IEwucG9wdXAoe21heFdpZHRoOiAnMTAwJScKICAgICAgICAgICAgCiAgICAgICAgICAgIH0pOwoKICAgICAgICAgICAgCiAgICAgICAgICAgICAgICB2YXIgaHRtbF8yZWRhYjQxYTEyODc0MGJmODBiY2VmZDcyYTlkZjExMSA9ICQoYDxkaXYgaWQ9Imh0bWxfMmVkYWI0MWExMjg3NDBiZjgwYmNlZmQ3MmE5ZGYxMTEiIHN0eWxlPSJ3aWR0aDogMTAwLjAlOyBoZWlnaHQ6IDEwMC4wJTsiPldlc3QgVG9yb250bywgUGFya2RhbGUsUm9uY2VzdmFsbGVzPC9kaXY+YClbMF07CiAgICAgICAgICAgICAgICBwb3B1cF9kYTE0YWNlMWZlOGQ0MzYwYTAzYzc0NWZmOWJkMGVjOS5zZXRDb250ZW50KGh0bWxfMmVkYWI0MWExMjg3NDBiZjgwYmNlZmQ3MmE5ZGYxMTEpOwogICAgICAgICAgICAKCiAgICAgICAgICAgIGNpcmNsZV9tYXJrZXJfMDA5ZTlhYWZiODhlNDcxZmI2YjUxMTM1YzVkZmZiYWMuYmluZFBvcHVwKHBvcHVwX2RhMTRhY2UxZmU4ZDQzNjBhMDNjNzQ1ZmY5YmQwZWM5KQogICAgICAgICAgICA7CgogICAgICAgICAgICAKICAgICAgICAKICAgIAogICAgICAgICAgICB2YXIgY2lyY2xlX21hcmtlcl8yYjA4OWU1MjQ4ZDM0YzI4YTU3YmI4NjUwOWQ3NWUzNiA9IEwuY2lyY2xlTWFya2VyKAogICAgICAgICAgICAgICAgWzQzLjY0OTg4NTAwMDAwMDA0LCAtNzkuNDc0OTI4Nzk1OTk5OTddLAogICAgICAgICAgICAgICAgewogICJidWJibGluZ01vdXNlRXZlbnRzIjogdHJ1ZSwKICAiY29sb3IiOiAiYmx1ZSIsCiAgImRhc2hBcnJheSI6IG51bGwsCiAgImRhc2hPZmZzZXQiOiBudWxsLAogICJmaWxsIjogdHJ1ZSwKICAiZmlsbENvbG9yIjogIiMzMTg2Y2MiLAogICJmaWxsT3BhY2l0eSI6IDAuMiwKICAiZmlsbFJ1bGUiOiAiZXZlbm9kZCIsCiAgImxpbmVDYXAiOiAicm91bmQiLAogICJsaW5lSm9pbiI6ICJyb3VuZCIsCiAgIm9wYWNpdHkiOiAxLjAsCiAgInJhZGl1cyI6IDQsCiAgInN0cm9rZSI6IHRydWUsCiAgIndlaWdodCI6IDMKfQogICAgICAgICAgICAgICAgKQogICAgICAgICAgICAgICAgLmFkZFRvKG1hcF83NDExMmI1ZTczMjU0NDNmOTM5MGZlNDg1NWU2NDMxOSk7CiAgICAgICAgICAgIAogICAgCiAgICAgICAgICAgIHZhciBwb3B1cF9iNmQ0NTgyNzU4NmY0YWQzYTBlNzgyNWJlOWI1YTFjYiA9IEwucG9wdXAoe21heFdpZHRoOiAnMTAwJScKICAgICAgICAgICAgCiAgICAgICAgICAgIH0pOwoKICAgICAgICAgICAgCiAgICAgICAgICAgICAgICB2YXIgaHRtbF80YTBjMGViNzRhYjc0MzViOGMwZDBkN2NhYjkwOGM0NSA9ICQoYDxkaXYgaWQ9Imh0bWxfNGEwYzBlYjc0YWI3NDM1YjhjMGQwZDdjYWI5MDhjNDUiIHN0eWxlPSJ3aWR0aDogMTAwLjAlOyBoZWlnaHQ6IDEwMC4wJTsiPldlc3QgVG9yb250bywgUnVubnltZWRlLFN3YW5zZWE8L2Rpdj5gKVswXTsKICAgICAgICAgICAgICAgIHBvcHVwX2I2ZDQ1ODI3NTg2ZjRhZDNhMGU3ODI1YmU5YjVhMWNiLnNldENvbnRlbnQoaHRtbF80YTBjMGViNzRhYjc0MzViOGMwZDBkN2NhYjkwOGM0NSk7CiAgICAgICAgICAgIAoKICAgICAgICAgICAgY2lyY2xlX21hcmtlcl8yYjA4OWU1MjQ4ZDM0YzI4YTU3YmI4NjUwOWQ3NWUzNi5iaW5kUG9wdXAocG9wdXBfYjZkNDU4Mjc1ODZmNGFkM2EwZTc4MjViZTliNWExY2IpCiAgICAgICAgICAgIDsKCiAgICAgICAgICAgIAogICAgICAgIAogICAgCiAgICAgICAgICAgIHZhciBjaXJjbGVfbWFya2VyX2M2OWEzNzg3MWM2NTRjYWI5MDYyNjZmNDViOGMzMTJkID0gTC5jaXJjbGVNYXJrZXIoCiAgICAgICAgICAgICAgICBbNDMuNjQ4NjkwMDAwMDAwMDQ1LCAtNzkuMzg1NDM5OTk5OTk5OTZdLAogICAgICAgICAgICAgICAgewogICJidWJibGluZ01vdXNlRXZlbnRzIjogdHJ1ZSwKICAiY29sb3IiOiAiYmx1ZSIsCiAgImRhc2hBcnJheSI6IG51bGwsCiAgImRhc2hPZmZzZXQiOiBudWxsLAogICJmaWxsIjogdHJ1ZSwKICAiZmlsbENvbG9yIjogIiMzMTg2Y2MiLAogICJmaWxsT3BhY2l0eSI6IDAuMiwKICAiZmlsbFJ1bGUiOiAiZXZlbm9kZCIsCiAgImxpbmVDYXAiOiAicm91bmQiLAogICJsaW5lSm9pbiI6ICJyb3VuZCIsCiAgIm9wYWNpdHkiOiAxLjAsCiAgInJhZGl1cyI6IDQsCiAgInN0cm9rZSI6IHRydWUsCiAgIndlaWdodCI6IDMKfQogICAgICAgICAgICAgICAgKQogICAgICAgICAgICAgICAgLmFkZFRvKG1hcF83NDExMmI1ZTczMjU0NDNmOTM5MGZlNDg1NWU2NDMxOSk7CiAgICAgICAgICAgIAogICAgCiAgICAgICAgICAgIHZhciBwb3B1cF9mMTg5YTk1YzA0ZDQ0MTI0YmNkMDhjMjgxOTlmMjMzZSA9IEwucG9wdXAoe21heFdpZHRoOiAnMTAwJScKICAgICAgICAgICAgCiAgICAgICAgICAgIH0pOwoKICAgICAgICAgICAgCiAgICAgICAgICAgICAgICB2YXIgaHRtbF80OThhYzYwZGVlMWI0NWQ0ODA1ZjM1ZTgyNTExNDM3ZSA9ICQoYDxkaXYgaWQ9Imh0bWxfNDk4YWM2MGRlZTFiNDVkNDgwNWYzNWU4MjUxMTQzN2UiIHN0eWxlPSJ3aWR0aDogMTAwLjAlOyBoZWlnaHQ6IDEwMC4wJTsiPkVhc3QgVG9yb250bywgQnVzaW5lc3MgUmVwbHkgTWFpbCBQcm9jZXNzaW5nIENlbnRyZSA5NjkgRWFzdGVybjwvZGl2PmApWzBdOwogICAgICAgICAgICAgICAgcG9wdXBfZjE4OWE5NWMwNGQ0NDEyNGJjZDA4YzI4MTk5ZjIzM2Uuc2V0Q29udGVudChodG1sXzQ5OGFjNjBkZWUxYjQ1ZDQ4MDVmMzVlODI1MTE0MzdlKTsKICAgICAgICAgICAgCgogICAgICAgICAgICBjaXJjbGVfbWFya2VyX2M2OWEzNzg3MWM2NTRjYWI5MDYyNjZmNDViOGMzMTJkLmJpbmRQb3B1cChwb3B1cF9mMTg5YTk1YzA0ZDQ0MTI0YmNkMDhjMjgxOTlmMjMzZSkKICAgICAgICAgICAgOwoKICAgICAgICAgICAgCiAgICAgICAgCjwvc2NyaXB0Pg==\" style=\"position:absolute;width:100%;height:100%;left:0;top:0;border:none !important;\" allowfullscreen webkitallowfullscreen mozallowfullscreen></iframe></div></div>"
            ],
            "text/plain": [
              "<folium.folium.Map at 0x7fdfb541f0b8>"
            ]
          },
          "metadata": {
            "tags": []
          },
          "execution_count": 250
        }
      ]
    },
    {
      "cell_type": "code",
      "metadata": {
        "id": "TusVBGh4I0M-",
        "colab_type": "code",
        "colab": {}
      },
      "source": [
        "CLIENT_ID\n",
        "CLIENT_SECRET"
      ],
      "execution_count": 0,
      "outputs": []
    },
    {
      "cell_type": "code",
      "metadata": {
        "id": "kxmuXOJ6SEf3",
        "colab_type": "code",
        "colab": {
          "base_uri": "https://localhost:8080/",
          "height": 683
        },
        "outputId": "9e5c6faf-c77e-4eec-db98-5c82b89d949f"
      },
      "source": [
        "for neighbourhoods,lat,lng in zip(toronto['Neighbourhood'],toronto['Latitude'],toronto['Longitude']):\n",
        "  print(neighbourhoods.split(','),lat,lng)"
      ],
      "execution_count": 35,
      "outputs": [
        {
          "output_type": "stream",
          "text": [
            "['The Beaches'] 43.67684518300007 -79.29522499999996\n",
            "['The Danforth West', 'Riverdale'] 43.68326150000007 -79.35511999999994\n",
            "['The Beaches West', 'India Bazaar'] 43.66796500000004 -79.31467251099997\n",
            "['Studio District'] 43.662765652000076 -79.33482999999995\n",
            "['Lawrence Park'] 43.72816000000006 -79.38708518799996\n",
            "['Davisville North'] 43.712815000000035 -79.38852582199996\n",
            "['North Toronto West'] 43.71452278400005 -79.40695999999997\n",
            "['Davisville'] 43.70339500000006 -79.38596360499997\n",
            "['Moore Park', 'Summerhill East'] 43.69065500000005 -79.38356145799997\n",
            "['Deer Park', 'Forest Hill SE', 'Rathnelly', 'South Hill', 'Summerhill West'] 43.68608285400006 -79.40233499999994\n",
            "['Rosedale'] 43.681940000000054 -79.37847416699998\n",
            "['Cabbagetown', 'St. James Town'] 43.66816000000006 -79.36660236199998\n",
            "['Church and Wellesley'] 43.666585000000055 -79.38130203699995\n",
            "['Harbourfront', 'Regent Park'] 43.65512000000007 -79.36263979699999\n",
            "['Ryerson', 'Garden District'] 43.65736301100003 -79.37817999999999\n",
            "['St. James Town'] 43.65121000000005 -79.37548057699996\n",
            "['Berczy Park'] 43.64516015600003 -79.37367499999993\n",
            "['Central Bay Street'] 43.65609081300005 -79.38492999999994\n",
            "['Adelaide', 'King', 'Richmond'] 43.649515000000065 -79.38250344699998\n",
            "['Harbourfront East', 'Toronto Islands', 'Union Station'] 43.623470000000054 -79.39150736399995\n",
            "['Design Exchange', 'Toronto Dominion Centre'] 43.64710000000008 -79.38153109899997\n",
            "['Commerce Court', 'Victoria Hotel'] 43.648205000000075 -79.37879339899996\n",
            "['Roselawn'] 43.711941154000044 -79.41911999999996\n",
            "['Forest Hill North', 'Forest Hill West'] 43.69478500000008 -79.41440483299994\n",
            "['The Annex', 'North Midtown', 'Yorkville'] 43.674840000000074 -79.40369769099993\n",
            "['Harbord', 'University of Toronto'] 43.663110000000074 -79.40180056699995\n",
            "['Chinatown', 'Grange Park', 'Kensington Market'] 43.65357000000006 -79.39724915699998\n",
            "['CN Tower', 'Bathurst Quay', 'Island airport', 'Harbourfront West', 'King and Spadina', 'Railway Lands', 'South Niagara'] 43.64081500000003 -79.39953781899999\n",
            "['Stn A PO Boxes 25 The Esplanade'] 43.648690000000045 -79.38543999999996\n",
            "['First Canadian Place', 'Underground city'] 43.64828000000006 -79.38146082599997\n",
            "['Christie'] 43.66878132800008 -79.42070999999999\n",
            "['Dovercourt Village', 'Dufferin'] 43.66508694300006 -79.43870499999997\n",
            "['Little Portugal', 'Trinity'] 43.64848500000005 -79.41774150899994\n",
            "['Brockton', 'Exhibition Place', 'Parkdale Village'] 43.639410000000055 -79.42436201999999\n",
            "['High Park', 'The Junction South'] 43.65997500000003 -79.46287357999995\n",
            "['Parkdale', 'Roncesvalles'] 43.64787000000007 -79.44976249999996\n",
            "['Runnymede', 'Swansea'] 43.64988500000004 -79.47492879599997\n",
            "['Business Reply Mail Processing Centre 969 Eastern'] 43.648690000000045 -79.38543999999996\n"
          ],
          "name": "stdout"
        }
      ]
    },
    {
      "cell_type": "code",
      "metadata": {
        "id": "wFnYY0AUHVqw",
        "colab_type": "code",
        "colab": {}
      },
      "source": [
        ""
      ],
      "execution_count": 0,
      "outputs": []
    }
  ]
}